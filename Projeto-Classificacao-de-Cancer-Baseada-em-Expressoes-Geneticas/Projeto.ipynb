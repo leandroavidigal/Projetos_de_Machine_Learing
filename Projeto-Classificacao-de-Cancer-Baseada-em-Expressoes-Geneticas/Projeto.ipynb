{
 "cells": [
  {
   "cell_type": "markdown",
   "metadata": {
    "colab_type": "text",
    "id": "p3ZpGrdEO9Lw"
   },
   "source": [
    "## Classificação de Câncer Usando Medidas de Expressão Gênica\n",
    "\n",
    "Autor: Leandro Vidigal\n"
   ]
  },
  {
   "cell_type": "markdown",
   "metadata": {},
   "source": [
    "### Introdução"
   ]
  },
  {
   "cell_type": "markdown",
   "metadata": {},
   "source": [
    "O diagnóstico preciso do tipo de câncer é fundamental para a seleção de tratamentos eficazes e melhoria dos resultados para os pacientes. Recentemente, as técnicas de aprendizado de máquina têm emergido como ferramentas poderosas para auxiliar na classificação e previsão de doenças com base em dados genômicos. Este projeto explora a aplicação de modelos de regressão logística e linear, bem como a Análise de Componentes Principais (PCA), para classificar duas formas relacionadas de leucemia: Leucemia Linfoblástica Aguda (LLA) e Leucemia Mieloide Aguda (LMA), usando dados de expressão gênica."
   ]
  },
  {
   "cell_type": "markdown",
   "metadata": {},
   "source": [
    "### Objetivo"
   ]
  },
  {
   "cell_type": "markdown",
   "metadata": {},
   "source": [
    "O objetivo deste projeto é construir e comparar modelos de classificação para distinguir entre LLA e LMA com base em medidas de expressão gênica de 7129 genes. Nós exploramos a utilização de regressão linear e logística, regressão logística múltipla e PCA para redução de dimensionalidade, visando entender como cada gene contribui para a classificação e como a redução de dimensionalidade pode impactar a performance dos modelos."
   ]
  },
  {
   "cell_type": "markdown",
   "metadata": {},
   "source": [
    "### Metodologia"
   ]
  },
  {
   "cell_type": "markdown",
   "metadata": {},
   "source": [
    "- Exploração e Normalização dos Dados: Começamos com a exploração dos dados de expressão gênica para entender sua distribuição e escala. Normalizamos os dados para contabilizar diferenças de escala entre os genes.\n",
    "\n",
    "\n",
    "- Análise de Componentes Principais (PCA): Reduzimos a dimensionalidade do conjunto de dados para identificar os principais componentes que capturam a maior parte da variância nos dados, facilitando a visualização e a modelagem subsequente.\n",
    "\n",
    "\n",
    "- Regressão Linear e Logística: Construímos modelos de regressão linear e logística usando um único gene preditor e comparamos sua eficácia na classificação das duas formas de câncer. Também exploramos o uso de regressão logística múltipla com todos os genes como preditores.\n",
    "\n",
    "\n",
    "- PCR: Regressão dos Componentes Principais: Implementamos a Regressão dos Componentes Principais (PCR) ajustando modelos de regressão logística nos componentes principais para explorar como a redução da dimensionalidade afeta a precisão da classificação.\n",
    "\n",
    "\n",
    "- Avaliação de Modelos: Comparamos a precisão da classificação, a interpretabilidade e a capacidade de generalização dos diferentes modelos para determinar as abordagens mais eficazes"
   ]
  },
  {
   "cell_type": "markdown",
   "metadata": {},
   "source": [
    "### Importância"
   ]
  },
  {
   "cell_type": "markdown",
   "metadata": {},
   "source": [
    "Este projeto ilustra o potencial das técnicas de aprendizado de máquina e redução de dimensionalidade na classificação de tipos de câncer, um passo crucial para a personalização da medicina. Ao entender as diferenças e semelhanças entre modelos e a influência da dimensionalidade, podemos aproximar a ciência de dados e a genética para oferecer insights valiosos na luta contra o câncer."
   ]
  },
  {
   "cell_type": "markdown",
   "metadata": {},
   "source": [
    "#### Bibliotecas:"
   ]
  },
  {
   "cell_type": "markdown",
   "metadata": {},
   "source": [
    "1. **warnings:** Utilizada para suprimir avisos que podem surgir durante a execução do código, como avisos de depreciação, garantindo uma saída mais limpa.\n",
    "\n",
    "2. **NumPy (np):** Essencial para manipulação numérica em Python. Pode ser usada para realizar operações matemáticas complexas em arrays e matrizes, fundamentais na manipulação de dados de expressão gênica.\n",
    "\n",
    "3. **Pandas (pd):** Facilita a manipulação e análise de dados. Será usada para carregar, explorar e preparar o conjunto de dados de expressão gênica para modelagem.\n",
    "\n",
    "4. **statsmodels (sm) e OLS:** Oferecem modelos estatísticos robustos e testes estatísticos. OLS (Ordinary Least Squares) pode ser usado para regressão linear, útil na análise inicial de relações entre genes e tipos de câncer.\n",
    "\n",
    "5. **Scikit-learn (sklearn):** Esta biblioteca de aprendizado de máquina é fundamental para o projeto. Será usada para:\n",
    "   - **PCA:** Reduzir a dimensionalidade dos dados de expressão gênica.\n",
    "   - **LogisticRegression e LogisticRegressionCV:** Ajustar modelos de regressão logística e realizar validação cruzada para otimizar hiperparâmetros.\n",
    "   - **LinearDiscriminantAnalysis (LDA) e QuadraticDiscriminantAnalysis (QDA):** Testar métodos de análise discriminante linear e quadrática.\n",
    "   - **PolynomialFeatures:** Criar recursos polinomiais para modelos complexos.\n",
    "   - **KNeighborsClassifier:** Implementar classificação baseada em vizinhos mais próximos.\n",
    "   - **cross_val_score, KFold:** Ferramentas para validação cruzada, essenciais para avaliar a performance dos modelos.\n",
    "   - **accuracy_score:** Calcular a precisão dos modelos de classificação.\n",
    "   - **MinMaxScaler:** Normalizar os dados de expressão gênica, garantindo que todos os recursos estejam na mesma escala.\n",
    "   \n",
    "\n",
    "6. **Math e scipy.special.gamma:** Utilizadas para operações matemáticas e funções especiais necessárias para análises estatísticas detalhadas ou específicas.\n",
    "\n",
    "7. **Matplotlib (plt) e seaborn (sns):** Bibliotecas de visualização de dados poderosas para criar gráficos e visualizações que facilitam a interpretação dos resultados das análises.\n",
    "\n",
    "8. **IPython.display.display:** Usado para exibir outputs de forma mais interativa e flexível no Jupyter Notebook."
   ]
  },
  {
   "cell_type": "code",
   "execution_count": 1,
   "metadata": {
    "colab": {
     "base_uri": "https://localhost:8080/",
     "height": 51
    },
    "colab_type": "code",
    "id": "w6kC__i_O9N-",
    "outputId": "bd224476-de23-43c7-94aa-4a0d945900b8"
   },
   "outputs": [],
   "source": [
    "import warnings\n",
    "warnings.filterwarnings('ignore')\n",
    "import numpy as np\n",
    "import pandas as pd\n",
    "\n",
    "import statsmodels.api as sm\n",
    "from statsmodels.api import OLS\n",
    "\n",
    "from sklearn.decomposition import PCA\n",
    "from sklearn.linear_model import LogisticRegression\n",
    "from sklearn.linear_model import LogisticRegressionCV\n",
    "from sklearn.discriminant_analysis import LinearDiscriminantAnalysis\n",
    "from sklearn.discriminant_analysis import QuadraticDiscriminantAnalysis\n",
    "from sklearn.preprocessing import PolynomialFeatures\n",
    "from sklearn.neighbors import KNeighborsClassifier\n",
    "from sklearn.model_selection import cross_val_score\n",
    "from sklearn.metrics import accuracy_score\n",
    "from sklearn.model_selection import KFold\n",
    "from sklearn.preprocessing import MinMaxScaler\n",
    "\n",
    "import math\n",
    "from scipy.special import gamma\n",
    "\n",
    "import matplotlib\n",
    "import matplotlib.pyplot as plt\n",
    "%matplotlib inline\n",
    "\n",
    "import seaborn as sns\n",
    "sns.set()\n",
    "\n",
    "from IPython.display import display\n"
   ]
  },
  {
   "cell_type": "markdown",
   "metadata": {
    "colab_type": "text",
    "id": "RK13snFKO9Oo"
   },
   "source": [
    "**Classificação de Tipos de Câncer através da Análise de Expressão Gênica**\n",
    "\n",
    "Neste estudo, empenhamo-nos na elaboração de um sofisticado modelo de classificação com o propósito de discernir entre duas categorias intimamente ligadas de câncer: Leucemia Linfoblástica Aguda (LLA) e Leucemia Mieloide Aguda (LMA), empregando dados de expressão gênica. O conjunto de dados analisado, alojado no arquivo `dados.csv`, consiste em amostras de tecido tumoral oriundas de pacientes acometidos por uma das mencionadas variantes de leucemia. A disposição dos dados revela, na primeira coluna, o tipo de câncer identificado, com o numeral 0 representando a classe LLA e o numeral 1, a classe LMA. As colunas subsequentes, da 2 à 7130, documentam os níveis de expressão de 7129 genes distintos, registrados em cada amostra.\n",
    "\n",
    "À medida que avançamos, adotaremos metodologias de regressão linear e logística na configuração de modelos de classificação dedicados a este conjunto de dados. Adicionalmente, recorreremos à Análise de Componentes Principais (PCA) com o objetivo de simplificar a dimensionalidade dos dados em questão, facilitando assim a interpretação e melhorando a eficiência dos modelos propostos."
   ]
  },
  {
   "cell_type": "markdown",
   "metadata": {
    "colab_type": "text",
    "id": "NwtlfIWUO9PA"
   },
   "source": [
    "## Parte 1: Exploração dos Dados\n",
    "\n",
    "O ponto de partida deste estudo envolve a segmentação das observações em um conjunto de treinamento e um conjunto de teste, buscando alcançar uma proporção aproximada de 50% para cada um. Esta divisão equitativa é crucial para garantir que tenhamos uma quantidade representativa de dados para treinar nosso modelo, bem como um conjunto independente para avaliar sua performance de maneira objetiva."
   ]
  },
  {
   "cell_type": "code",
   "execution_count": 2,
   "metadata": {},
   "outputs": [],
   "source": [
    "# Definir a semente do gerador de números aleatórios para garantir reprodutibilidade\n",
    "np.random.seed(9002)\n",
    "\n",
    "# Carregar os dados de expressão gênica do arquivo 'dados.csv' para um DataFrame\n",
    "df = pd.read_csv('dados.csv')\n",
    "\n",
    "# Gerar uma máscara booleana com a mesma quantidade de linhas do DataFrame.\n",
    "# Cada elemento é True se um valor aleatório gerado for menor que 0.5, caso contrário, False.\n",
    "# Isso é usado para dividir os dados em conjuntos de treinamento e teste de forma aleatória.\n",
    "msk = np.random.rand(len(df)) < 0.5\n",
    "\n",
    "# Selecionar as linhas para o conjunto de treinamento usando a máscara booleana.\n",
    "# As linhas correspondentes aos valores True na máscara são incluídas no conjunto de treinamento.\n",
    "data_train = df[msk]\n",
    "\n",
    "# Selecionar as linhas para o conjunto de teste invertendo a máscara booleana.\n",
    "# As linhas correspondentes aos valores False na máscara original são incluídas no conjunto de teste.\n",
    "data_test = df[~msk]\n"
   ]
  },
  {
   "cell_type": "code",
   "execution_count": 3,
   "metadata": {},
   "outputs": [
    {
     "data": {
      "text/html": [
       "<div>\n",
       "<style scoped>\n",
       "    .dataframe tbody tr th:only-of-type {\n",
       "        vertical-align: middle;\n",
       "    }\n",
       "\n",
       "    .dataframe tbody tr th {\n",
       "        vertical-align: top;\n",
       "    }\n",
       "\n",
       "    .dataframe thead th {\n",
       "        text-align: right;\n",
       "    }\n",
       "</style>\n",
       "<table border=\"1\" class=\"dataframe\">\n",
       "  <thead>\n",
       "    <tr style=\"text-align: right;\">\n",
       "      <th></th>\n",
       "      <th>Cancer_type</th>\n",
       "      <th>AFFX-BioB-5_at</th>\n",
       "      <th>AFFX-BioB-M_at</th>\n",
       "      <th>AFFX-BioB-3_at</th>\n",
       "      <th>AFFX-BioC-5_at</th>\n",
       "      <th>AFFX-BioC-3_at</th>\n",
       "      <th>AFFX-BioDn-5_at</th>\n",
       "      <th>AFFX-BioDn-3_at</th>\n",
       "      <th>AFFX-CreX-5_at</th>\n",
       "      <th>AFFX-CreX-3_at</th>\n",
       "      <th>...</th>\n",
       "      <th>U48730_at</th>\n",
       "      <th>U58516_at</th>\n",
       "      <th>U73738_at</th>\n",
       "      <th>X06956_at</th>\n",
       "      <th>X16699_at</th>\n",
       "      <th>X83863_at</th>\n",
       "      <th>Z17240_at</th>\n",
       "      <th>L49218_f_at</th>\n",
       "      <th>M71243_f_at</th>\n",
       "      <th>Z78285_f_at</th>\n",
       "    </tr>\n",
       "  </thead>\n",
       "  <tbody>\n",
       "    <tr>\n",
       "      <th>0</th>\n",
       "      <td>0</td>\n",
       "      <td>-214</td>\n",
       "      <td>-153</td>\n",
       "      <td>-58</td>\n",
       "      <td>88</td>\n",
       "      <td>-295</td>\n",
       "      <td>-558</td>\n",
       "      <td>199</td>\n",
       "      <td>-176</td>\n",
       "      <td>252</td>\n",
       "      <td>...</td>\n",
       "      <td>185</td>\n",
       "      <td>511</td>\n",
       "      <td>-125</td>\n",
       "      <td>389</td>\n",
       "      <td>-37</td>\n",
       "      <td>793</td>\n",
       "      <td>329</td>\n",
       "      <td>36</td>\n",
       "      <td>191</td>\n",
       "      <td>-37</td>\n",
       "    </tr>\n",
       "    <tr>\n",
       "      <th>1</th>\n",
       "      <td>0</td>\n",
       "      <td>-135</td>\n",
       "      <td>-114</td>\n",
       "      <td>265</td>\n",
       "      <td>12</td>\n",
       "      <td>-419</td>\n",
       "      <td>-585</td>\n",
       "      <td>158</td>\n",
       "      <td>-253</td>\n",
       "      <td>49</td>\n",
       "      <td>...</td>\n",
       "      <td>240</td>\n",
       "      <td>835</td>\n",
       "      <td>218</td>\n",
       "      <td>174</td>\n",
       "      <td>-110</td>\n",
       "      <td>627</td>\n",
       "      <td>170</td>\n",
       "      <td>-50</td>\n",
       "      <td>126</td>\n",
       "      <td>-91</td>\n",
       "    </tr>\n",
       "    <tr>\n",
       "      <th>2</th>\n",
       "      <td>0</td>\n",
       "      <td>-106</td>\n",
       "      <td>-125</td>\n",
       "      <td>-76</td>\n",
       "      <td>168</td>\n",
       "      <td>-230</td>\n",
       "      <td>-284</td>\n",
       "      <td>4</td>\n",
       "      <td>-122</td>\n",
       "      <td>70</td>\n",
       "      <td>...</td>\n",
       "      <td>156</td>\n",
       "      <td>649</td>\n",
       "      <td>57</td>\n",
       "      <td>504</td>\n",
       "      <td>-26</td>\n",
       "      <td>250</td>\n",
       "      <td>314</td>\n",
       "      <td>14</td>\n",
       "      <td>56</td>\n",
       "      <td>-25</td>\n",
       "    </tr>\n",
       "    <tr>\n",
       "      <th>3</th>\n",
       "      <td>0</td>\n",
       "      <td>-72</td>\n",
       "      <td>-144</td>\n",
       "      <td>238</td>\n",
       "      <td>55</td>\n",
       "      <td>-399</td>\n",
       "      <td>-551</td>\n",
       "      <td>131</td>\n",
       "      <td>-179</td>\n",
       "      <td>126</td>\n",
       "      <td>...</td>\n",
       "      <td>30</td>\n",
       "      <td>819</td>\n",
       "      <td>-178</td>\n",
       "      <td>151</td>\n",
       "      <td>-18</td>\n",
       "      <td>1140</td>\n",
       "      <td>482</td>\n",
       "      <td>10</td>\n",
       "      <td>369</td>\n",
       "      <td>-42</td>\n",
       "    </tr>\n",
       "    <tr>\n",
       "      <th>4</th>\n",
       "      <td>0</td>\n",
       "      <td>-413</td>\n",
       "      <td>-260</td>\n",
       "      <td>7</td>\n",
       "      <td>-2</td>\n",
       "      <td>-541</td>\n",
       "      <td>-790</td>\n",
       "      <td>-275</td>\n",
       "      <td>-463</td>\n",
       "      <td>70</td>\n",
       "      <td>...</td>\n",
       "      <td>289</td>\n",
       "      <td>629</td>\n",
       "      <td>-86</td>\n",
       "      <td>302</td>\n",
       "      <td>23</td>\n",
       "      <td>1798</td>\n",
       "      <td>446</td>\n",
       "      <td>59</td>\n",
       "      <td>781</td>\n",
       "      <td>20</td>\n",
       "    </tr>\n",
       "    <tr>\n",
       "      <th>5</th>\n",
       "      <td>0</td>\n",
       "      <td>-67</td>\n",
       "      <td>-93</td>\n",
       "      <td>84</td>\n",
       "      <td>25</td>\n",
       "      <td>-179</td>\n",
       "      <td>-323</td>\n",
       "      <td>-135</td>\n",
       "      <td>-127</td>\n",
       "      <td>-2</td>\n",
       "      <td>...</td>\n",
       "      <td>48</td>\n",
       "      <td>224</td>\n",
       "      <td>60</td>\n",
       "      <td>194</td>\n",
       "      <td>-10</td>\n",
       "      <td>291</td>\n",
       "      <td>41</td>\n",
       "      <td>8</td>\n",
       "      <td>-2</td>\n",
       "      <td>-80</td>\n",
       "    </tr>\n",
       "    <tr>\n",
       "      <th>6</th>\n",
       "      <td>0</td>\n",
       "      <td>-92</td>\n",
       "      <td>-119</td>\n",
       "      <td>-31</td>\n",
       "      <td>173</td>\n",
       "      <td>-233</td>\n",
       "      <td>-227</td>\n",
       "      <td>-49</td>\n",
       "      <td>-62</td>\n",
       "      <td>13</td>\n",
       "      <td>...</td>\n",
       "      <td>213</td>\n",
       "      <td>583</td>\n",
       "      <td>3</td>\n",
       "      <td>530</td>\n",
       "      <td>-39</td>\n",
       "      <td>696</td>\n",
       "      <td>302</td>\n",
       "      <td>24</td>\n",
       "      <td>74</td>\n",
       "      <td>-11</td>\n",
       "    </tr>\n",
       "    <tr>\n",
       "      <th>7</th>\n",
       "      <td>0</td>\n",
       "      <td>-107</td>\n",
       "      <td>-72</td>\n",
       "      <td>-126</td>\n",
       "      <td>149</td>\n",
       "      <td>-205</td>\n",
       "      <td>-284</td>\n",
       "      <td>-166</td>\n",
       "      <td>-185</td>\n",
       "      <td>1</td>\n",
       "      <td>...</td>\n",
       "      <td>120</td>\n",
       "      <td>722</td>\n",
       "      <td>20</td>\n",
       "      <td>332</td>\n",
       "      <td>-5</td>\n",
       "      <td>195</td>\n",
       "      <td>59</td>\n",
       "      <td>31</td>\n",
       "      <td>116</td>\n",
       "      <td>-18</td>\n",
       "    </tr>\n",
       "    <tr>\n",
       "      <th>8</th>\n",
       "      <td>0</td>\n",
       "      <td>-117</td>\n",
       "      <td>-219</td>\n",
       "      <td>-50</td>\n",
       "      <td>257</td>\n",
       "      <td>-218</td>\n",
       "      <td>-402</td>\n",
       "      <td>228</td>\n",
       "      <td>-147</td>\n",
       "      <td>65</td>\n",
       "      <td>...</td>\n",
       "      <td>79</td>\n",
       "      <td>631</td>\n",
       "      <td>-26</td>\n",
       "      <td>455</td>\n",
       "      <td>-62</td>\n",
       "      <td>736</td>\n",
       "      <td>445</td>\n",
       "      <td>42</td>\n",
       "      <td>247</td>\n",
       "      <td>-43</td>\n",
       "    </tr>\n",
       "    <tr>\n",
       "      <th>9</th>\n",
       "      <td>0</td>\n",
       "      <td>-476</td>\n",
       "      <td>-213</td>\n",
       "      <td>-18</td>\n",
       "      <td>301</td>\n",
       "      <td>-403</td>\n",
       "      <td>-394</td>\n",
       "      <td>-42</td>\n",
       "      <td>-144</td>\n",
       "      <td>98</td>\n",
       "      <td>...</td>\n",
       "      <td>241</td>\n",
       "      <td>1214</td>\n",
       "      <td>127</td>\n",
       "      <td>255</td>\n",
       "      <td>50</td>\n",
       "      <td>1701</td>\n",
       "      <td>1108</td>\n",
       "      <td>61</td>\n",
       "      <td>525</td>\n",
       "      <td>-83</td>\n",
       "    </tr>\n",
       "  </tbody>\n",
       "</table>\n",
       "<p>10 rows × 7130 columns</p>\n",
       "</div>"
      ],
      "text/plain": [
       "   Cancer_type  AFFX-BioB-5_at  AFFX-BioB-M_at  AFFX-BioB-3_at  \\\n",
       "0            0            -214            -153             -58   \n",
       "1            0            -135            -114             265   \n",
       "2            0            -106            -125             -76   \n",
       "3            0             -72            -144             238   \n",
       "4            0            -413            -260               7   \n",
       "5            0             -67             -93              84   \n",
       "6            0             -92            -119             -31   \n",
       "7            0            -107             -72            -126   \n",
       "8            0            -117            -219             -50   \n",
       "9            0            -476            -213             -18   \n",
       "\n",
       "   AFFX-BioC-5_at  AFFX-BioC-3_at  AFFX-BioDn-5_at  AFFX-BioDn-3_at  \\\n",
       "0              88            -295             -558              199   \n",
       "1              12            -419             -585              158   \n",
       "2             168            -230             -284                4   \n",
       "3              55            -399             -551              131   \n",
       "4              -2            -541             -790             -275   \n",
       "5              25            -179             -323             -135   \n",
       "6             173            -233             -227              -49   \n",
       "7             149            -205             -284             -166   \n",
       "8             257            -218             -402              228   \n",
       "9             301            -403             -394              -42   \n",
       "\n",
       "   AFFX-CreX-5_at  AFFX-CreX-3_at  ...  U48730_at  U58516_at  U73738_at  \\\n",
       "0            -176             252  ...        185        511       -125   \n",
       "1            -253              49  ...        240        835        218   \n",
       "2            -122              70  ...        156        649         57   \n",
       "3            -179             126  ...         30        819       -178   \n",
       "4            -463              70  ...        289        629        -86   \n",
       "5            -127              -2  ...         48        224         60   \n",
       "6             -62              13  ...        213        583          3   \n",
       "7            -185               1  ...        120        722         20   \n",
       "8            -147              65  ...         79        631        -26   \n",
       "9            -144              98  ...        241       1214        127   \n",
       "\n",
       "   X06956_at  X16699_at  X83863_at  Z17240_at  L49218_f_at  M71243_f_at  \\\n",
       "0        389        -37        793        329           36          191   \n",
       "1        174       -110        627        170          -50          126   \n",
       "2        504        -26        250        314           14           56   \n",
       "3        151        -18       1140        482           10          369   \n",
       "4        302         23       1798        446           59          781   \n",
       "5        194        -10        291         41            8           -2   \n",
       "6        530        -39        696        302           24           74   \n",
       "7        332         -5        195         59           31          116   \n",
       "8        455        -62        736        445           42          247   \n",
       "9        255         50       1701       1108           61          525   \n",
       "\n",
       "   Z78285_f_at  \n",
       "0          -37  \n",
       "1          -91  \n",
       "2          -25  \n",
       "3          -42  \n",
       "4           20  \n",
       "5          -80  \n",
       "6          -11  \n",
       "7          -18  \n",
       "8          -43  \n",
       "9          -83  \n",
       "\n",
       "[10 rows x 7130 columns]"
      ]
     },
     "metadata": {},
     "output_type": "display_data"
    }
   ],
   "source": [
    "display(df.head(10))"
   ]
  },
  {
   "cell_type": "markdown",
   "metadata": {
    "colab_type": "text",
    "id": "Yk7VXYrdO9QA"
   },
   "source": [
    "**1.1 Análise Inicial do Conjunto de Treinamento:** \n",
    "\n",
    "Ao examinarmos o conjunto de treinamento, é crucial observarmos as significativas variações nas medidas de expressão gênica entre diferentes genes. Essas medidas variam amplamente, com alguns valores sendo negativos, outros aproximando-se de zero, e ainda outros alcançando magnitudes na ordem dos milhares. Essa diversidade de escalas e variabilidades entre os preditores pode impactar negativamente a eficácia dos modelos de aprendizado de máquina. Portanto, é essencial normalizar cada preditor para que varie uniformemente entre 0 e 1, garantindo assim que todos eles contribuam equitativamente para o processo de aprendizado e melhorem a precisão do modelo de classificação desenvolvido."
   ]
  },
  {
   "cell_type": "code",
   "execution_count": 4,
   "metadata": {
    "colab": {},
    "colab_type": "code",
    "id": "Es1QVK9A6tKc"
   },
   "outputs": [],
   "source": [
    "def normalize_columns(df, cols, scaler):\n",
    "    df_copy = df.copy()\n",
    "    df_copy[cols] = scaler.transform(df[cols])\n",
    "    return df_copy"
   ]
  },
  {
   "cell_type": "markdown",
   "metadata": {},
   "source": [
    "> A função `normalize_columns` normaliza colunas selecionadas de um DataFrame usando um escalonador pré-definido. Ela faz uma cópia do DataFrame original para evitar alterações nos dados originais, aplica a transformação de normalização apenas nas colunas especificadas, e retorna o DataFrame modificado. Isso permite a normalização precisa de características específicas, mantendo o restante dos dados intactos, essencial para a preparação eficaz dos dados para modelagem."
   ]
  },
  {
   "cell_type": "code",
   "execution_count": 5,
   "metadata": {
    "colab": {},
    "colab_type": "code",
    "id": "W7UWvcco6ulk"
   },
   "outputs": [],
   "source": [
    "response_col = 'Cancer_type'\n",
    "predictors = data_train.columns.difference([response_col])\n",
    "scaler = MinMaxScaler().fit(data_train[predictors])\n",
    "data_train_scaled = normalize_columns(data_train, predictors, scaler)\n",
    "data_test_scaled = normalize_columns(data_test, predictors, scaler)"
   ]
  },
  {
   "cell_type": "markdown",
   "metadata": {},
   "source": [
    "> Este código prepara os conjuntos de treinamento e teste para modelagem, escalonando os preditores para o intervalo [0, 1]. Primeiro, define-se a coluna de resposta (`'Cancer_type'`) e identificam-se os preditores excluindo essa coluna do conjunto de treinamento. Em seguida, instancia-se o `MinMaxScaler` e ajusta-se aos preditores do conjunto de treinamento. A função `normalize_columns` é então aplicada aos conjuntos de treinamento e teste para escalar as colunas dos preditores. O resultado são conjuntos de dados escalonados (`data_train_scaled` e `data_test_scaled`) prontos para a análise subsequente."
   ]
  },
  {
   "cell_type": "code",
   "execution_count": 6,
   "metadata": {
    "colab": {},
    "colab_type": "code",
    "id": "GqO7DDhPDc1m"
   },
   "outputs": [],
   "source": [
    "# separate into predictors and response\n",
    "## train\n",
    "y_train = data_train_scaled[response_col]\n",
    "X_train_scaled = data_train_scaled[predictors]\n",
    "## test\n",
    "y_test = data_test_scaled[response_col]\n",
    "X_test_scaled = data_test_scaled[predictors]"
   ]
  },
  {
   "cell_type": "markdown",
   "metadata": {},
   "source": [
    "> Este bloco de código segmenta os conjuntos de dados escalonados de treinamento e teste em componentes de preditores e resposta. Para o conjunto de treinamento, `y_train` contém os valores da coluna de resposta, enquanto `X_train_scaled` inclui as colunas dos preditores já escalonados. O mesmo processo é aplicado ao conjunto de teste, gerando `y_test` para a resposta e `X_test_scaled` para os preditores escalonados. Este passo prepara os dados para a modelagem, organizando-os de forma adequada para análises subsequentes."
   ]
  },
  {
   "cell_type": "code",
   "execution_count": 7,
   "metadata": {
    "colab": {
     "base_uri": "https://localhost:8080/",
     "height": 346
    },
    "colab_type": "code",
    "id": "mhOeNALHEE1E",
    "outputId": "067e4696-d211-46a0-aa28-38853fa81731"
   },
   "outputs": [
    {
     "data": {
      "text/html": [
       "<div>\n",
       "<style scoped>\n",
       "    .dataframe tbody tr th:only-of-type {\n",
       "        vertical-align: middle;\n",
       "    }\n",
       "\n",
       "    .dataframe tbody tr th {\n",
       "        vertical-align: top;\n",
       "    }\n",
       "\n",
       "    .dataframe thead th {\n",
       "        text-align: right;\n",
       "    }\n",
       "</style>\n",
       "<table border=\"1\" class=\"dataframe\">\n",
       "  <thead>\n",
       "    <tr style=\"text-align: right;\">\n",
       "      <th></th>\n",
       "      <th>A28102_at</th>\n",
       "      <th>AB000114_at</th>\n",
       "      <th>AB000115_at</th>\n",
       "      <th>AB000220_at</th>\n",
       "      <th>AB000381_s_at</th>\n",
       "      <th>AB000409_at</th>\n",
       "      <th>AB000410_s_at</th>\n",
       "      <th>AB000449_at</th>\n",
       "      <th>AB000450_at</th>\n",
       "      <th>AB000460_at</th>\n",
       "      <th>...</th>\n",
       "      <th>Z84721_cds2_at</th>\n",
       "      <th>Z84722_at</th>\n",
       "      <th>Z86000_at</th>\n",
       "      <th>Z93784_at</th>\n",
       "      <th>Z94753_s_at</th>\n",
       "      <th>Z95624_at</th>\n",
       "      <th>Z96810_at</th>\n",
       "      <th>Z97054_xpt2_at</th>\n",
       "      <th>Z97074_at</th>\n",
       "      <th>hum_alu_at</th>\n",
       "    </tr>\n",
       "  </thead>\n",
       "  <tbody>\n",
       "    <tr>\n",
       "      <th>count</th>\n",
       "      <td>40.000000</td>\n",
       "      <td>40.000000</td>\n",
       "      <td>40.000000</td>\n",
       "      <td>40.000000</td>\n",
       "      <td>40.000000</td>\n",
       "      <td>40.000000</td>\n",
       "      <td>40.000000</td>\n",
       "      <td>40.000000</td>\n",
       "      <td>40.000000</td>\n",
       "      <td>40.000000</td>\n",
       "      <td>...</td>\n",
       "      <td>40.000000</td>\n",
       "      <td>40.000000</td>\n",
       "      <td>40.000000</td>\n",
       "      <td>40.000000</td>\n",
       "      <td>40.000000</td>\n",
       "      <td>40.000000</td>\n",
       "      <td>40.000000</td>\n",
       "      <td>40.000000</td>\n",
       "      <td>40.000000</td>\n",
       "      <td>40.000000</td>\n",
       "    </tr>\n",
       "    <tr>\n",
       "      <th>mean</th>\n",
       "      <td>0.225047</td>\n",
       "      <td>0.379253</td>\n",
       "      <td>0.133660</td>\n",
       "      <td>0.377114</td>\n",
       "      <td>0.614879</td>\n",
       "      <td>0.338714</td>\n",
       "      <td>0.642135</td>\n",
       "      <td>0.232975</td>\n",
       "      <td>0.338544</td>\n",
       "      <td>0.366077</td>\n",
       "      <td>...</td>\n",
       "      <td>0.301265</td>\n",
       "      <td>0.724295</td>\n",
       "      <td>0.307447</td>\n",
       "      <td>0.283810</td>\n",
       "      <td>0.390125</td>\n",
       "      <td>0.375121</td>\n",
       "      <td>0.411335</td>\n",
       "      <td>0.397629</td>\n",
       "      <td>0.408433</td>\n",
       "      <td>0.387442</td>\n",
       "    </tr>\n",
       "    <tr>\n",
       "      <th>std</th>\n",
       "      <td>0.184174</td>\n",
       "      <td>0.239350</td>\n",
       "      <td>0.217092</td>\n",
       "      <td>0.198466</td>\n",
       "      <td>0.210569</td>\n",
       "      <td>0.187751</td>\n",
       "      <td>0.260907</td>\n",
       "      <td>0.215510</td>\n",
       "      <td>0.233942</td>\n",
       "      <td>0.211425</td>\n",
       "      <td>...</td>\n",
       "      <td>0.222715</td>\n",
       "      <td>0.160970</td>\n",
       "      <td>0.206939</td>\n",
       "      <td>0.199026</td>\n",
       "      <td>0.215197</td>\n",
       "      <td>0.214607</td>\n",
       "      <td>0.234657</td>\n",
       "      <td>0.236164</td>\n",
       "      <td>0.218074</td>\n",
       "      <td>0.246407</td>\n",
       "    </tr>\n",
       "    <tr>\n",
       "      <th>min</th>\n",
       "      <td>0.000000</td>\n",
       "      <td>0.000000</td>\n",
       "      <td>0.000000</td>\n",
       "      <td>0.000000</td>\n",
       "      <td>0.000000</td>\n",
       "      <td>0.000000</td>\n",
       "      <td>0.000000</td>\n",
       "      <td>0.000000</td>\n",
       "      <td>0.000000</td>\n",
       "      <td>0.000000</td>\n",
       "      <td>...</td>\n",
       "      <td>0.000000</td>\n",
       "      <td>0.000000</td>\n",
       "      <td>0.000000</td>\n",
       "      <td>0.000000</td>\n",
       "      <td>0.000000</td>\n",
       "      <td>0.000000</td>\n",
       "      <td>0.000000</td>\n",
       "      <td>0.000000</td>\n",
       "      <td>0.000000</td>\n",
       "      <td>0.000000</td>\n",
       "    </tr>\n",
       "    <tr>\n",
       "      <th>25%</th>\n",
       "      <td>0.089725</td>\n",
       "      <td>0.235477</td>\n",
       "      <td>0.026899</td>\n",
       "      <td>0.272388</td>\n",
       "      <td>0.482794</td>\n",
       "      <td>0.238484</td>\n",
       "      <td>0.515249</td>\n",
       "      <td>0.089877</td>\n",
       "      <td>0.176699</td>\n",
       "      <td>0.245512</td>\n",
       "      <td>...</td>\n",
       "      <td>0.124274</td>\n",
       "      <td>0.676128</td>\n",
       "      <td>0.190579</td>\n",
       "      <td>0.166584</td>\n",
       "      <td>0.246865</td>\n",
       "      <td>0.211353</td>\n",
       "      <td>0.260593</td>\n",
       "      <td>0.236676</td>\n",
       "      <td>0.245719</td>\n",
       "      <td>0.207247</td>\n",
       "    </tr>\n",
       "    <tr>\n",
       "      <th>50%</th>\n",
       "      <td>0.193655</td>\n",
       "      <td>0.356846</td>\n",
       "      <td>0.056630</td>\n",
       "      <td>0.353234</td>\n",
       "      <td>0.617409</td>\n",
       "      <td>0.304439</td>\n",
       "      <td>0.681380</td>\n",
       "      <td>0.182209</td>\n",
       "      <td>0.317476</td>\n",
       "      <td>0.353501</td>\n",
       "      <td>...</td>\n",
       "      <td>0.255927</td>\n",
       "      <td>0.750353</td>\n",
       "      <td>0.273651</td>\n",
       "      <td>0.213722</td>\n",
       "      <td>0.332288</td>\n",
       "      <td>0.335749</td>\n",
       "      <td>0.389831</td>\n",
       "      <td>0.352755</td>\n",
       "      <td>0.422945</td>\n",
       "      <td>0.333076</td>\n",
       "    </tr>\n",
       "    <tr>\n",
       "      <th>75%</th>\n",
       "      <td>0.313684</td>\n",
       "      <td>0.508299</td>\n",
       "      <td>0.098749</td>\n",
       "      <td>0.404229</td>\n",
       "      <td>0.736842</td>\n",
       "      <td>0.402010</td>\n",
       "      <td>0.857143</td>\n",
       "      <td>0.301227</td>\n",
       "      <td>0.407282</td>\n",
       "      <td>0.438241</td>\n",
       "      <td>...</td>\n",
       "      <td>0.403569</td>\n",
       "      <td>0.801128</td>\n",
       "      <td>0.390149</td>\n",
       "      <td>0.316881</td>\n",
       "      <td>0.464734</td>\n",
       "      <td>0.555556</td>\n",
       "      <td>0.550847</td>\n",
       "      <td>0.509711</td>\n",
       "      <td>0.525257</td>\n",
       "      <td>0.609126</td>\n",
       "    </tr>\n",
       "    <tr>\n",
       "      <th>max</th>\n",
       "      <td>1.000000</td>\n",
       "      <td>1.000000</td>\n",
       "      <td>1.000000</td>\n",
       "      <td>1.000000</td>\n",
       "      <td>1.000000</td>\n",
       "      <td>1.000000</td>\n",
       "      <td>1.000000</td>\n",
       "      <td>1.000000</td>\n",
       "      <td>1.000000</td>\n",
       "      <td>1.000000</td>\n",
       "      <td>...</td>\n",
       "      <td>1.000000</td>\n",
       "      <td>1.000000</td>\n",
       "      <td>1.000000</td>\n",
       "      <td>1.000000</td>\n",
       "      <td>1.000000</td>\n",
       "      <td>1.000000</td>\n",
       "      <td>1.000000</td>\n",
       "      <td>1.000000</td>\n",
       "      <td>1.000000</td>\n",
       "      <td>1.000000</td>\n",
       "    </tr>\n",
       "  </tbody>\n",
       "</table>\n",
       "<p>8 rows × 7129 columns</p>\n",
       "</div>"
      ],
      "text/plain": [
       "       A28102_at  AB000114_at  AB000115_at  AB000220_at  AB000381_s_at  \\\n",
       "count  40.000000    40.000000    40.000000    40.000000      40.000000   \n",
       "mean    0.225047     0.379253     0.133660     0.377114       0.614879   \n",
       "std     0.184174     0.239350     0.217092     0.198466       0.210569   \n",
       "min     0.000000     0.000000     0.000000     0.000000       0.000000   \n",
       "25%     0.089725     0.235477     0.026899     0.272388       0.482794   \n",
       "50%     0.193655     0.356846     0.056630     0.353234       0.617409   \n",
       "75%     0.313684     0.508299     0.098749     0.404229       0.736842   \n",
       "max     1.000000     1.000000     1.000000     1.000000       1.000000   \n",
       "\n",
       "       AB000409_at  AB000410_s_at  AB000449_at  AB000450_at  AB000460_at  ...  \\\n",
       "count    40.000000      40.000000    40.000000    40.000000    40.000000  ...   \n",
       "mean      0.338714       0.642135     0.232975     0.338544     0.366077  ...   \n",
       "std       0.187751       0.260907     0.215510     0.233942     0.211425  ...   \n",
       "min       0.000000       0.000000     0.000000     0.000000     0.000000  ...   \n",
       "25%       0.238484       0.515249     0.089877     0.176699     0.245512  ...   \n",
       "50%       0.304439       0.681380     0.182209     0.317476     0.353501  ...   \n",
       "75%       0.402010       0.857143     0.301227     0.407282     0.438241  ...   \n",
       "max       1.000000       1.000000     1.000000     1.000000     1.000000  ...   \n",
       "\n",
       "       Z84721_cds2_at  Z84722_at  Z86000_at  Z93784_at  Z94753_s_at  \\\n",
       "count       40.000000  40.000000  40.000000  40.000000    40.000000   \n",
       "mean         0.301265   0.724295   0.307447   0.283810     0.390125   \n",
       "std          0.222715   0.160970   0.206939   0.199026     0.215197   \n",
       "min          0.000000   0.000000   0.000000   0.000000     0.000000   \n",
       "25%          0.124274   0.676128   0.190579   0.166584     0.246865   \n",
       "50%          0.255927   0.750353   0.273651   0.213722     0.332288   \n",
       "75%          0.403569   0.801128   0.390149   0.316881     0.464734   \n",
       "max          1.000000   1.000000   1.000000   1.000000     1.000000   \n",
       "\n",
       "       Z95624_at  Z96810_at  Z97054_xpt2_at  Z97074_at  hum_alu_at  \n",
       "count  40.000000  40.000000       40.000000  40.000000   40.000000  \n",
       "mean    0.375121   0.411335        0.397629   0.408433    0.387442  \n",
       "std     0.214607   0.234657        0.236164   0.218074    0.246407  \n",
       "min     0.000000   0.000000        0.000000   0.000000    0.000000  \n",
       "25%     0.211353   0.260593        0.236676   0.245719    0.207247  \n",
       "50%     0.335749   0.389831        0.352755   0.422945    0.333076  \n",
       "75%     0.555556   0.550847        0.509711   0.525257    0.609126  \n",
       "max     1.000000   1.000000        1.000000   1.000000    1.000000  \n",
       "\n",
       "[8 rows x 7129 columns]"
      ]
     },
     "execution_count": 7,
     "metadata": {},
     "output_type": "execute_result"
    }
   ],
   "source": [
    "# verify transformation\n",
    "X_train_scaled.describe()"
   ]
  },
  {
   "cell_type": "markdown",
   "metadata": {},
   "source": [
    "> Este código realiza uma verificação da transformação aplicada aos preditores do conjunto de treinamento escalonado. Utilizando o método `.describe()`, ele gera um resumo estatístico das colunas dos preditores em `X_train_scaled`, incluindo medidas como média, desvio padrão, valor mínimo, quartis e valor máximo. Este passo é crucial para assegurar que a normalização foi executada corretamente e para entender a nova escala dos dados."
   ]
  },
  {
   "cell_type": "markdown",
   "metadata": {
    "colab_type": "text",
    "id": "7TxkV9LViB0e"
   },
   "source": [
    "A variabilidade nos níveis de expressão gênica era inicialmente bastante significativa, apresentando uma ampla gama de variações entre os diferentes genes. Contudo, com a aplicação do escalonamento, essa questão de grande variância foi efetivamente mitigada, resultando em uma uniformidade consideravelmente melhorada nos dados."
   ]
  },
  {
   "cell_type": "markdown",
   "metadata": {
    "colab_type": "text",
    "id": "HlNBMg7EO9RG"
   },
   "source": [
    "**1.2 Desafios em Modelagem com Mais Preditores que Observações**\n",
    "\n",
    "Ao analisar o conjunto de treinamento, notamos uma característica desafiadora: o número de preditores supera o de observações. Esse cenário implica potenciais dificuldades ao tentar ajustar um modelo de classificação, pois a alta dimensionalidade em relação ao número de amostras pode levar a problemas de sobreajuste, tornando o modelo excessivamente complexo e possivelmente incapaz de generalizar bem para dados novos ou não vistos. Este desequilíbrio entre preditores e observações é uma questão crítica que demanda atenção cuidadosa no processo de modelagem."
   ]
  },
  {
   "cell_type": "code",
   "execution_count": 8,
   "metadata": {
    "colab": {
     "base_uri": "https://localhost:8080/",
     "height": 253
    },
    "colab_type": "code",
    "id": "2L3pKickVxXg",
    "outputId": "03f5ba20-7904-42f1-d9d8-7c5c54ec83c2",
    "scrolled": true
   },
   "outputs": [
    {
     "data": {
      "text/html": [
       "<div>\n",
       "<style scoped>\n",
       "    .dataframe tbody tr th:only-of-type {\n",
       "        vertical-align: middle;\n",
       "    }\n",
       "\n",
       "    .dataframe tbody tr th {\n",
       "        vertical-align: top;\n",
       "    }\n",
       "\n",
       "    .dataframe thead th {\n",
       "        text-align: right;\n",
       "    }\n",
       "</style>\n",
       "<table border=\"1\" class=\"dataframe\">\n",
       "  <thead>\n",
       "    <tr style=\"text-align: right;\">\n",
       "      <th></th>\n",
       "      <th>A28102_at</th>\n",
       "      <th>AB000114_at</th>\n",
       "      <th>AB000115_at</th>\n",
       "      <th>AB000220_at</th>\n",
       "      <th>AB000381_s_at</th>\n",
       "      <th>AB000409_at</th>\n",
       "      <th>AB000410_s_at</th>\n",
       "      <th>AB000449_at</th>\n",
       "      <th>AB000450_at</th>\n",
       "      <th>AB000460_at</th>\n",
       "      <th>...</th>\n",
       "      <th>Z84721_cds2_at</th>\n",
       "      <th>Z84722_at</th>\n",
       "      <th>Z86000_at</th>\n",
       "      <th>Z93784_at</th>\n",
       "      <th>Z94753_s_at</th>\n",
       "      <th>Z95624_at</th>\n",
       "      <th>Z96810_at</th>\n",
       "      <th>Z97054_xpt2_at</th>\n",
       "      <th>Z97074_at</th>\n",
       "      <th>hum_alu_at</th>\n",
       "    </tr>\n",
       "  </thead>\n",
       "  <tbody>\n",
       "    <tr>\n",
       "      <th>0</th>\n",
       "      <td>0.095644</td>\n",
       "      <td>0.531120</td>\n",
       "      <td>0.097688</td>\n",
       "      <td>0.348259</td>\n",
       "      <td>0.554656</td>\n",
       "      <td>0.041876</td>\n",
       "      <td>0.524880</td>\n",
       "      <td>0.047853</td>\n",
       "      <td>0.357282</td>\n",
       "      <td>0.309515</td>\n",
       "      <td>...</td>\n",
       "      <td>0.197924</td>\n",
       "      <td>0.803244</td>\n",
       "      <td>0.223612</td>\n",
       "      <td>0.426456</td>\n",
       "      <td>0.592476</td>\n",
       "      <td>0.463768</td>\n",
       "      <td>0.000000</td>\n",
       "      <td>0.272809</td>\n",
       "      <td>0.547945</td>\n",
       "      <td>0.166547</td>\n",
       "    </tr>\n",
       "    <tr>\n",
       "      <th>2</th>\n",
       "      <td>0.064394</td>\n",
       "      <td>0.298755</td>\n",
       "      <td>0.058046</td>\n",
       "      <td>0.363184</td>\n",
       "      <td>0.639676</td>\n",
       "      <td>0.490787</td>\n",
       "      <td>0.857143</td>\n",
       "      <td>0.359509</td>\n",
       "      <td>0.357282</td>\n",
       "      <td>0.295512</td>\n",
       "      <td>...</td>\n",
       "      <td>0.076476</td>\n",
       "      <td>0.747532</td>\n",
       "      <td>0.104769</td>\n",
       "      <td>0.475814</td>\n",
       "      <td>0.451411</td>\n",
       "      <td>0.222222</td>\n",
       "      <td>0.326271</td>\n",
       "      <td>0.317977</td>\n",
       "      <td>0.407534</td>\n",
       "      <td>0.225260</td>\n",
       "    </tr>\n",
       "    <tr>\n",
       "      <th>5</th>\n",
       "      <td>0.292614</td>\n",
       "      <td>0.282158</td>\n",
       "      <td>0.052383</td>\n",
       "      <td>0.343284</td>\n",
       "      <td>0.404858</td>\n",
       "      <td>0.401173</td>\n",
       "      <td>0.455859</td>\n",
       "      <td>0.171779</td>\n",
       "      <td>0.100971</td>\n",
       "      <td>0.234470</td>\n",
       "      <td>...</td>\n",
       "      <td>0.125161</td>\n",
       "      <td>0.769394</td>\n",
       "      <td>0.107115</td>\n",
       "      <td>0.176703</td>\n",
       "      <td>0.253918</td>\n",
       "      <td>0.178744</td>\n",
       "      <td>0.182203</td>\n",
       "      <td>0.199639</td>\n",
       "      <td>0.476027</td>\n",
       "      <td>0.398496</td>\n",
       "    </tr>\n",
       "    <tr>\n",
       "      <th>9</th>\n",
       "      <td>0.053977</td>\n",
       "      <td>0.634855</td>\n",
       "      <td>0.051439</td>\n",
       "      <td>0.233831</td>\n",
       "      <td>0.951417</td>\n",
       "      <td>0.396985</td>\n",
       "      <td>0.060995</td>\n",
       "      <td>0.426994</td>\n",
       "      <td>0.943689</td>\n",
       "      <td>0.856373</td>\n",
       "      <td>...</td>\n",
       "      <td>0.266351</td>\n",
       "      <td>1.000000</td>\n",
       "      <td>0.886630</td>\n",
       "      <td>0.656466</td>\n",
       "      <td>0.927900</td>\n",
       "      <td>0.314010</td>\n",
       "      <td>0.266949</td>\n",
       "      <td>0.702800</td>\n",
       "      <td>0.453767</td>\n",
       "      <td>0.145881</td>\n",
       "    </tr>\n",
       "    <tr>\n",
       "      <th>10</th>\n",
       "      <td>0.033144</td>\n",
       "      <td>0.435685</td>\n",
       "      <td>0.058046</td>\n",
       "      <td>0.233831</td>\n",
       "      <td>0.761134</td>\n",
       "      <td>0.317420</td>\n",
       "      <td>0.897271</td>\n",
       "      <td>0.180368</td>\n",
       "      <td>0.318447</td>\n",
       "      <td>0.180610</td>\n",
       "      <td>...</td>\n",
       "      <td>0.000000</td>\n",
       "      <td>0.700282</td>\n",
       "      <td>0.117279</td>\n",
       "      <td>0.120434</td>\n",
       "      <td>0.376176</td>\n",
       "      <td>0.062802</td>\n",
       "      <td>0.656780</td>\n",
       "      <td>0.412827</td>\n",
       "      <td>0.248288</td>\n",
       "      <td>0.329248</td>\n",
       "    </tr>\n",
       "  </tbody>\n",
       "</table>\n",
       "<p>5 rows × 7129 columns</p>\n",
       "</div>"
      ],
      "text/plain": [
       "    A28102_at  AB000114_at  AB000115_at  AB000220_at  AB000381_s_at  \\\n",
       "0    0.095644     0.531120     0.097688     0.348259       0.554656   \n",
       "2    0.064394     0.298755     0.058046     0.363184       0.639676   \n",
       "5    0.292614     0.282158     0.052383     0.343284       0.404858   \n",
       "9    0.053977     0.634855     0.051439     0.233831       0.951417   \n",
       "10   0.033144     0.435685     0.058046     0.233831       0.761134   \n",
       "\n",
       "    AB000409_at  AB000410_s_at  AB000449_at  AB000450_at  AB000460_at  ...  \\\n",
       "0      0.041876       0.524880     0.047853     0.357282     0.309515  ...   \n",
       "2      0.490787       0.857143     0.359509     0.357282     0.295512  ...   \n",
       "5      0.401173       0.455859     0.171779     0.100971     0.234470  ...   \n",
       "9      0.396985       0.060995     0.426994     0.943689     0.856373  ...   \n",
       "10     0.317420       0.897271     0.180368     0.318447     0.180610  ...   \n",
       "\n",
       "    Z84721_cds2_at  Z84722_at  Z86000_at  Z93784_at  Z94753_s_at  Z95624_at  \\\n",
       "0         0.197924   0.803244   0.223612   0.426456     0.592476   0.463768   \n",
       "2         0.076476   0.747532   0.104769   0.475814     0.451411   0.222222   \n",
       "5         0.125161   0.769394   0.107115   0.176703     0.253918   0.178744   \n",
       "9         0.266351   1.000000   0.886630   0.656466     0.927900   0.314010   \n",
       "10        0.000000   0.700282   0.117279   0.120434     0.376176   0.062802   \n",
       "\n",
       "    Z96810_at  Z97054_xpt2_at  Z97074_at  hum_alu_at  \n",
       "0    0.000000        0.272809   0.547945    0.166547  \n",
       "2    0.326271        0.317977   0.407534    0.225260  \n",
       "5    0.182203        0.199639   0.476027    0.398496  \n",
       "9    0.266949        0.702800   0.453767    0.145881  \n",
       "10   0.656780        0.412827   0.248288    0.329248  \n",
       "\n",
       "[5 rows x 7129 columns]"
      ]
     },
     "execution_count": 8,
     "metadata": {},
     "output_type": "execute_result"
    }
   ],
   "source": [
    "X_train_scaled.head()"
   ]
  },
  {
   "cell_type": "markdown",
   "metadata": {},
   "source": [
    "> Este comando renderiza uma tabela com as primeiras cinco linhas do DataFrame X_train_scaled, permitindo verificar a aplicação bem-sucedida do escalonamento aos preditores. Se desejar visualizar um número diferente de linhas, você pode passar esse número como argumento para o método .head(). Por exemplo, X_train_scaled.head(10) exibirá as primeiras 10 linhas."
   ]
  },
  {
   "cell_type": "markdown",
   "metadata": {
    "colab_type": "text",
    "id": "aaoH0ZD-O9R4"
   },
   "source": [
    "A presença de um número elevado de preditores, neste caso, 7.130, em comparação com um número relativamente baixo de amostras, apenas 40, introduz complicações significativas no desenvolvimento de modelos de classificação eficazes, destacando-se principalmente três desafios:\n",
    "\n",
    "1. **Invertibilidade das Matrizes Comprometida:** Quando o número de preditores excede o de observações, as matrizes envolvidas nas análises estatísticas frequentemente se tornam singulares ou próximas de singulares, o que impede a sua inversão. Isso é crucial para vários métodos de modelagem que dependem da inversão matricial.\n",
    "\n",
    "2. **Risco Acentuado de Multicolinearidade:** Uma quantidade excessiva de preditores aumenta a probabilidade de que alguns deles sejam altamente correlacionados entre si. Isso pode distorcer a interpretação dos coeficientes do modelo e inflar a variância das estimativas, comprometendo a confiabilidade dos resultados.\n",
    "\n",
    "3. **Perigo de Overfitting:** Com muitos preditores, o modelo pode se ajustar demais aos dados de treinamento, capturando ruídos em vez de padrões genuínos. Isso deteriora a capacidade do modelo de generalizar para novos conjuntos de dados, limitando sua utilidade prática.\n",
    "\n",
    "Dado esse cenário, estratégias como a regularização, que penaliza modelos excessivamente complexos, e a Análise de Componentes Principais (PCA), que reduz a dimensionalidade dos dados, emergem como abordagens necessárias. Elas visam mitigar os riscos associados ao elevado número de preditores, promovendo a construção de modelos mais robustos e identificáveis."
   ]
  },
  {
   "cell_type": "markdown",
   "metadata": {
    "colab_type": "text",
    "id": "BYuoF2gUO9SC"
   },
   "source": [
    "**1.3 Análise Discriminativa de Genes entre Tipos de Câncer**\n",
    "\n",
    "Neste segmento, direcionaremos nossa atenção à capacidade discriminativa de certos genes na distinção entre tipos de câncer. Propomos a elaboração de uma visualização composta por quatro subgráficos, organizados numa configuração de grade 2x2, cada um dedicado a um gene específico: `D29963_at`, `M23161_at`, `hum_alu_at` e `AFFX-PheX-5_at`. Em cada subgráfico, superporemos dois histogramas que representam os níveis de expressão gênica, com um histograma por tipo de câncer, facilitando uma comparação visual direta.\n",
    "\n",
    "A eficácia de cada gene em discriminar entre as classes de câncer será avaliada pela distinção visual entre os histogramas correspondentes a cada tipo. Uma separação clara entre os histogramas de diferentes classes sugere que o gene possui uma forte capacidade discriminatória. Esta análise nos permite identificar genes que podem ser particularmente informativos para a classificação do tipo de câncer, contribuindo para aprimorar a precisão dos modelos de classificação."
   ]
  },
  {
   "cell_type": "code",
   "execution_count": 9,
   "metadata": {
    "colab": {},
    "colab_type": "code",
    "id": "AcfUF3WuO9SU"
   },
   "outputs": [],
   "source": [
    "def plot_genes_histograms(genes_list, df):\n",
    "    count = len(genes_list)\n",
    "    if (count % 2 != 0) | (count<2):\n",
    "        return\n",
    "    genes_arr = np.array(genes_list).reshape(-1, 2)\n",
    "    fig, ax = plt.subplots(count//2, 2, figsize=(18, 4*count//2))\n",
    "    for (i,j), gene in np.ndenumerate(genes_arr):\n",
    "        sns.distplot(df[df['Cancer_type'] == 0][gene],\n",
    "                     label='Acute Lymphoblastic Leukemia (ALL)', ax=ax[i][j])\n",
    "        sns.distplot(df[df['Cancer_type'] == 1][gene],\n",
    "                     label='Acute Myeloid Leukemia (AML)', ax=ax[i][j])\n",
    "        ax[i][j].set_title(gene)\n",
    "        ax[i][j].legend()\n",
    "        ax[i][j].set_xlabel('')\n",
    "        ax[i][j].set_ylabel('frequency')\n",
    "    ax[i][j].set_xlabel('expression level')\n",
    "    ax[i][j-1].set_xlabel('expression level')\n",
    "        "
   ]
  },
  {
   "cell_type": "markdown",
   "metadata": {},
   "source": [
    "> A função `plot_genes_histograms` visualiza a distribuição dos níveis de expressão gênica, diferenciando entre Leucemia Linfoblástica Aguda (ALL) e Leucemia Mieloide Aguda (AML). Para cada gene especificado, a função plota dois histogramas no mesmo subgráfico: um para ALL e outro para AML, facilitando a comparação visual. Os gráficos são organizados numa grade, com os títulos dos subgráficos correspondendo aos nomes dos genes e legendas indicando os tipos de câncer. Ajustes finais nos eixos garantem clareza na apresentação dos níveis de expressão (\"expression level\") e frequência (\"frequency\")."
   ]
  },
  {
   "cell_type": "code",
   "execution_count": 10,
   "metadata": {
    "colab": {
     "base_uri": "https://localhost:8080/",
     "height": 512
    },
    "colab_type": "code",
    "id": "XsKK87D_iz_M",
    "outputId": "0795da90-7834-4933-d617-e7cc20ae86ab"
   },
   "outputs": [
    {
     "data": {
      "image/png": "[encoded data removed]",
      "text/plain": [
       "<Figure size 1296x576 with 4 Axes>"
      ]
     },
     "metadata": {},
     "output_type": "display_data"
    }
   ],
   "source": [
    "genes_list = ['D29963_at', 'M23161_at', 'hum_alu_at', 'AFFX-PheX-5_at']\n",
    "plot_genes_histograms(genes_list, data_train_scaled)"
   ]
  },
  {
   "cell_type": "markdown",
   "metadata": {
    "colab_type": "text",
    "id": "4vd3nrWgO9S6"
   },
   "source": [
    "> A análise dos histogramas sobrepostos revela as distribuições de expressão gênica para cada gene analisado. A distinção entre as classes de câncer LLA e LMA é possível quando suas respectivas funções de densidade de probabilidade (PDFs) não se sobrepõem significativamente. No entanto, observamos uma considerável sobreposição nas PDFs para os quatro genes examinados, indicando que nenhum deles oferece uma discriminação clara entre LLA e LMA por si só. Apesar disso, é possível inferir tendências específicas: expressões diminuídas de `D29963_at` e `hum_alu_at`, assim como expressões extremamente elevadas de `M23161_at` e valores muito reduzidos de `AFFX-PheX-5_at`, tendem a estar associadas a uma probabilidade maior de diagnóstico de LLA. Por outro lado, altos níveis de expressão de `D29963_at` sugerem uma maior inclinação para o diagnóstico de LMA. Essas observações sublinham a complexidade inerente à correlação entre a expressão gênica e os tipos específicos de câncer, enfatizando a necessidade de uma análise mais aprofundada e integrada para aprimorar a precisão diagnóstica."
   ]
  },
  {
   "cell_type": "markdown",
   "metadata": {
    "colab_type": "text",
    "id": "G-vdu-8QO9TI"
   },
   "source": [
    "**1.4 Redução de Dimensionalidade para Visualização com PCA**\n",
    "\n",
    "Dada a elevada dimensionalidade do nosso conjunto de dados de expressão gênica, que dificulta a visualização e interpretação diretas, adotamos a Análise de Componentes Principais (PCA) para simplificar essa complexidade. A PCA nos permite identificar e extrair os dois principais componentes que capturam a maior parte da variação nos dados. Com esses componentes, criamos um gráfico de dispersão que facilita a visualização das diferenças entre os dois tipos de câncer, usando cores e marcadores distintos para cada classe (por exemplo, 'x' para um e 'o' para o outro).\n",
    "\n",
    "Este gráfico nos permite avaliar visualmente até que ponto os dois principais componentes conseguem discriminar entre as classes de câncer. Além disso, essa análise nos informa sobre a porcentagem da variação total nos dados de expressão gênica que esses componentes conseguem explicar, oferecendo insights sobre a eficácia da PCA na redução de dimensionalidade e na preservação de informações críticas do conjunto original de dados."
   ]
  },
  {
   "cell_type": "code",
   "execution_count": 11,
   "metadata": {
    "colab": {},
    "colab_type": "code",
    "id": "V9EvQDG1kHq-"
   },
   "outputs": [],
   "source": [
    "pca_transformer = PCA(2).fit(X_train_scaled)\n",
    "X_train_2d = pca_transformer.transform(X_train_scaled)\n",
    "var_explained = pca_transformer.explained_variance_ratio_"
   ]
  },
  {
   "cell_type": "markdown",
   "metadata": {},
   "source": [
    "> Este código inicializa e ajusta um transformador PCA para reduzir a dimensionalidade dos dados de treinamento escalonados para dois componentes principais. `X_train_2d` contém a representação de `X_train_scaled` nesse espaço reduzido. `var_explained` armazena a proporção da variação total explicada por esses dois componentes."
   ]
  },
  {
   "cell_type": "code",
   "execution_count": 12,
   "metadata": {
    "colab": {
     "base_uri": "https://localhost:8080/",
     "height": 376
    },
    "colab_type": "code",
    "id": "uH95PMd3kOzK",
    "outputId": "0678e711-a883-43f2-912f-e8c5cf5ba0bd",
    "scrolled": true
   },
   "outputs": [
    {
     "data": {
      "image/png": "[encoded data removed]",
      "text/plain": [
       "<Figure size 432x288 with 1 Axes>"
      ]
     },
     "metadata": {},
     "output_type": "display_data"
    }
   ],
   "source": [
    "colors = ['r','c']\n",
    "label_text = [\"Acute Lymphoblastic Leukemia (ALL)\", \"Acute Myeloid Leukemia (AML)\"]\n",
    "\n",
    "markshapes = ['x','o']\n",
    "# and we loop over the different groups\n",
    "for cancer_type in [0,1]:\n",
    "    df_per_type = X_train_2d[y_train==cancer_type]\n",
    "    plt.scatter(df_per_type[:,0], df_per_type[:,1],\n",
    "                marker=markshapes[cancer_type],\n",
    "                c = colors[cancer_type],\n",
    "                label=label_text[cancer_type])\n",
    "    \n",
    "plt.xlabel(\"PCA Dimension 1\")\n",
    "plt.ylabel(\"PCA Dimention 2\")\n",
    "plt.title(\"top two principal components for the gene expression data\")\n",
    "plt.legend();"
   ]
  },
  {
   "cell_type": "markdown",
   "metadata": {},
   "source": [
    "> Temos agora um gráfico de dispersão utilizando os dois principais componentes da PCA para distinguir visualmente entre as classes de câncer LLA (Leucemia Linfoblástica Aguda) e LMA (Leucemia Mieloide Aguda), utilizando cores e marcadores específicos para cada classe. Os dados de cada tipo de câncer são plotados com uma cor e forma de marcador designadas, permitindo uma clara visualização da distribuição e possível separação das classes no espaço bidimensional resultante da PCA. O gráfico é devidamente rotulado, incluindo uma legenda que facilita a identificação das classes. A partir deste gráfico, podemos observar a eficácia da PCA em revelar agrupamentos ou padrões distintos, contribuindo para a compreensão de como os tipos de câncer podem ser diferenciados com base nos padrões de expressão gênica."
   ]
  },
  {
   "cell_type": "markdown",
   "metadata": {
    "colab_type": "text",
    "id": "eJ8PVIBvO9UE"
   },
   "source": [
    "A discriminação entre as condições de LLA (Leucemia Linfoblástica Aguda) e LMA (Leucemia Mieloide Aguda) pelos dois principais componentes derivados da PCA mostra limitações. Observa-se que ambos os tipos de câncer apresentam sobreposições significativas nos valores mais baixos (<4) da segunda dimensão do PCA, indicando uma dificuldade em distinguir entre LLA e LMA com base nestes valores. Entretanto, valores mais elevados (>4) na segunda dimensão tendem a indicar LLA com maior clareza. Além disso, uma combinação específica de valores — primeira dimensão superior a 3 e segunda dimensão inferior a zero — sugere uma metodologia potencial para a identificação precisa de casos de LMA. Essas observações ressaltam a complexidade inerente à classificação de tipos de câncer com base em expressões gênica e sugerem caminhos para refinamento futuro dos modelos de predição."
   ]
  },
  {
   "cell_type": "code",
   "execution_count": 13,
   "metadata": {
    "colab": {
     "base_uri": "https://localhost:8080/",
     "height": 51
    },
    "colab_type": "code",
    "id": "tFX_dNAJliNK",
    "outputId": "746ae74c-6afc-4075-9492-779f5667ac25"
   },
   "outputs": [
    {
     "name": "stdout",
     "output_type": "stream",
     "text": [
      "Variance explained by each PCA component: [0.15889035 0.11428795]\n",
      "Total Variance Explained: 0.2731782945208869\n"
     ]
    }
   ],
   "source": [
    "print(\"Variance explained by each PCA component:\", var_explained)\n",
    "print(\"Total Variance Explained:\", np.sum(var_explained))"
   ]
  },
  {
   "cell_type": "markdown",
   "metadata": {
    "colab_type": "text",
    "id": "4zCGvMuIlm7i"
   },
   "source": [
    "> A análise de componentes principais (PCA) revelou que o primeiro componente principal é responsável por explicar 15,88% da variabilidade presente nos dados, enquanto o segundo componente contribui com uma explicação adicional de 11,43%. Combinados, esses dois componentes principais elucidam aproximadamente 27,31% da variância total observada no conjunto de dados de treinamento. Esta constatação sugere que, para capturar uma porção maior da complexidade e variabilidade dos dados, pode ser necessário incorporar dimensões adicionais proporcionadas pela PCA."
   ]
  },
  {
   "cell_type": "markdown",
   "metadata": {
    "colab_type": "text",
    "id": "Ru5fcPUUO9UM"
   },
   "source": [
    "**1.5 Análise da Variação Cumulativa Explicada por Componentes PCA**\n",
    "\n",
    "Para entender melhor a distribuição da variabilidade nos nossos dados de expressão gênica, realizamos uma análise da variação cumulativa explicada, avaliando até os primeiros 40 componentes principais identificados pela PCA. Esta análise visa determinar o número ótimo de componentes que são necessários para capturar uma porção significativa da variabilidade total nos dados, especificamente buscando explicar pelo menos 90% da mesma.\n",
    "\n",
    "Embora inicialmente possamos considerar que apenas 2 componentes principais sejam suficientes para a análise, a investigação detalhada da variação cumulativa nos permitirá identificar o número exato de componentes necessários para alcançar um limiar de explicação de 90% da variabilidade. Este passo é crucial para otimizar a dimensionalidade do modelo, equilibrando entre a simplicidade e a capacidade de captura da complexidade inerente ao conjunto de dados."
   ]
  },
  {
   "cell_type": "code",
   "execution_count": 14,
   "metadata": {
    "colab": {},
    "colab_type": "code",
    "id": "GonrVBaqR9gh"
   },
   "outputs": [],
   "source": [
    "pca_transformer = PCA(40).fit(X_train_scaled)\n",
    "X_train_40d = pca_transformer.transform(X_train_scaled)\n",
    "var_explained_40d = pca_transformer.explained_variance_ratio_"
   ]
  },
  {
   "cell_type": "markdown",
   "metadata": {},
   "source": [
    "> Aqui é inicializado um transformador PCA sendo configurado para extrair até 40 componentes principais dos dados de treinamento escalonados. Primeiro, o PCA é ajustado aos dados (`X_train_scaled`), e então os dados são transformados, resultando em uma representação reduzida (`X_train_40d`) com 40 dimensões. Finalmente, `var_explained_40d` armazena a porção da variância explicada por cada um dos 40 componentes principais."
   ]
  },
  {
   "cell_type": "code",
   "execution_count": 15,
   "metadata": {
    "colab": {
     "base_uri": "https://localhost:8080/",
     "height": 1289
    },
    "colab_type": "code",
    "id": "41ieYOqVnYNG",
    "outputId": "2f8f9ba8-7fcb-4a38-8158-f264f2cb04d7"
   },
   "outputs": [
    {
     "data": {
      "text/html": [
       "<div>\n",
       "<style scoped>\n",
       "    .dataframe tbody tr th:only-of-type {\n",
       "        vertical-align: middle;\n",
       "    }\n",
       "\n",
       "    .dataframe tbody tr th {\n",
       "        vertical-align: top;\n",
       "    }\n",
       "\n",
       "    .dataframe thead th {\n",
       "        text-align: right;\n",
       "    }\n",
       "</style>\n",
       "<table border=\"1\" class=\"dataframe\">\n",
       "  <thead>\n",
       "    <tr style=\"text-align: right;\">\n",
       "      <th></th>\n",
       "      <th>dimensions</th>\n",
       "      <th>cumulative_var_explained</th>\n",
       "    </tr>\n",
       "  </thead>\n",
       "  <tbody>\n",
       "    <tr>\n",
       "      <th>0</th>\n",
       "      <td>1</td>\n",
       "      <td>0.158890</td>\n",
       "    </tr>\n",
       "    <tr>\n",
       "      <th>1</th>\n",
       "      <td>2</td>\n",
       "      <td>0.273178</td>\n",
       "    </tr>\n",
       "    <tr>\n",
       "      <th>2</th>\n",
       "      <td>3</td>\n",
       "      <td>0.339141</td>\n",
       "    </tr>\n",
       "    <tr>\n",
       "      <th>3</th>\n",
       "      <td>4</td>\n",
       "      <td>0.387015</td>\n",
       "    </tr>\n",
       "    <tr>\n",
       "      <th>4</th>\n",
       "      <td>5</td>\n",
       "      <td>0.429572</td>\n",
       "    </tr>\n",
       "    <tr>\n",
       "      <th>5</th>\n",
       "      <td>6</td>\n",
       "      <td>0.467894</td>\n",
       "    </tr>\n",
       "    <tr>\n",
       "      <th>6</th>\n",
       "      <td>7</td>\n",
       "      <td>0.500530</td>\n",
       "    </tr>\n",
       "    <tr>\n",
       "      <th>7</th>\n",
       "      <td>8</td>\n",
       "      <td>0.529504</td>\n",
       "    </tr>\n",
       "    <tr>\n",
       "      <th>8</th>\n",
       "      <td>9</td>\n",
       "      <td>0.556197</td>\n",
       "    </tr>\n",
       "    <tr>\n",
       "      <th>9</th>\n",
       "      <td>10</td>\n",
       "      <td>0.580748</td>\n",
       "    </tr>\n",
       "    <tr>\n",
       "      <th>10</th>\n",
       "      <td>11</td>\n",
       "      <td>0.604404</td>\n",
       "    </tr>\n",
       "    <tr>\n",
       "      <th>11</th>\n",
       "      <td>12</td>\n",
       "      <td>0.627411</td>\n",
       "    </tr>\n",
       "    <tr>\n",
       "      <th>12</th>\n",
       "      <td>13</td>\n",
       "      <td>0.648637</td>\n",
       "    </tr>\n",
       "    <tr>\n",
       "      <th>13</th>\n",
       "      <td>14</td>\n",
       "      <td>0.668736</td>\n",
       "    </tr>\n",
       "    <tr>\n",
       "      <th>14</th>\n",
       "      <td>15</td>\n",
       "      <td>0.688411</td>\n",
       "    </tr>\n",
       "    <tr>\n",
       "      <th>15</th>\n",
       "      <td>16</td>\n",
       "      <td>0.707683</td>\n",
       "    </tr>\n",
       "    <tr>\n",
       "      <th>16</th>\n",
       "      <td>17</td>\n",
       "      <td>0.726223</td>\n",
       "    </tr>\n",
       "    <tr>\n",
       "      <th>17</th>\n",
       "      <td>18</td>\n",
       "      <td>0.743569</td>\n",
       "    </tr>\n",
       "    <tr>\n",
       "      <th>18</th>\n",
       "      <td>19</td>\n",
       "      <td>0.760778</td>\n",
       "    </tr>\n",
       "    <tr>\n",
       "      <th>19</th>\n",
       "      <td>20</td>\n",
       "      <td>0.777326</td>\n",
       "    </tr>\n",
       "    <tr>\n",
       "      <th>20</th>\n",
       "      <td>21</td>\n",
       "      <td>0.792818</td>\n",
       "    </tr>\n",
       "    <tr>\n",
       "      <th>21</th>\n",
       "      <td>22</td>\n",
       "      <td>0.807985</td>\n",
       "    </tr>\n",
       "    <tr>\n",
       "      <th>22</th>\n",
       "      <td>23</td>\n",
       "      <td>0.822980</td>\n",
       "    </tr>\n",
       "    <tr>\n",
       "      <th>23</th>\n",
       "      <td>24</td>\n",
       "      <td>0.837251</td>\n",
       "    </tr>\n",
       "    <tr>\n",
       "      <th>24</th>\n",
       "      <td>25</td>\n",
       "      <td>0.851115</td>\n",
       "    </tr>\n",
       "    <tr>\n",
       "      <th>25</th>\n",
       "      <td>26</td>\n",
       "      <td>0.864456</td>\n",
       "    </tr>\n",
       "    <tr>\n",
       "      <th>26</th>\n",
       "      <td>27</td>\n",
       "      <td>0.877615</td>\n",
       "    </tr>\n",
       "    <tr>\n",
       "      <th>27</th>\n",
       "      <td>28</td>\n",
       "      <td>0.890451</td>\n",
       "    </tr>\n",
       "    <tr>\n",
       "      <th>28</th>\n",
       "      <td>29</td>\n",
       "      <td>0.902687</td>\n",
       "    </tr>\n",
       "    <tr>\n",
       "      <th>29</th>\n",
       "      <td>30</td>\n",
       "      <td>0.914478</td>\n",
       "    </tr>\n",
       "    <tr>\n",
       "      <th>30</th>\n",
       "      <td>31</td>\n",
       "      <td>0.925960</td>\n",
       "    </tr>\n",
       "    <tr>\n",
       "      <th>31</th>\n",
       "      <td>32</td>\n",
       "      <td>0.937067</td>\n",
       "    </tr>\n",
       "    <tr>\n",
       "      <th>32</th>\n",
       "      <td>33</td>\n",
       "      <td>0.947493</td>\n",
       "    </tr>\n",
       "    <tr>\n",
       "      <th>33</th>\n",
       "      <td>34</td>\n",
       "      <td>0.957267</td>\n",
       "    </tr>\n",
       "    <tr>\n",
       "      <th>34</th>\n",
       "      <td>35</td>\n",
       "      <td>0.966780</td>\n",
       "    </tr>\n",
       "    <tr>\n",
       "      <th>35</th>\n",
       "      <td>36</td>\n",
       "      <td>0.975667</td>\n",
       "    </tr>\n",
       "    <tr>\n",
       "      <th>36</th>\n",
       "      <td>37</td>\n",
       "      <td>0.984278</td>\n",
       "    </tr>\n",
       "    <tr>\n",
       "      <th>37</th>\n",
       "      <td>38</td>\n",
       "      <td>0.992505</td>\n",
       "    </tr>\n",
       "    <tr>\n",
       "      <th>38</th>\n",
       "      <td>39</td>\n",
       "      <td>1.000000</td>\n",
       "    </tr>\n",
       "    <tr>\n",
       "      <th>39</th>\n",
       "      <td>40</td>\n",
       "      <td>1.000000</td>\n",
       "    </tr>\n",
       "  </tbody>\n",
       "</table>\n",
       "</div>"
      ],
      "text/plain": [
       "    dimensions  cumulative_var_explained\n",
       "0            1                  0.158890\n",
       "1            2                  0.273178\n",
       "2            3                  0.339141\n",
       "3            4                  0.387015\n",
       "4            5                  0.429572\n",
       "5            6                  0.467894\n",
       "6            7                  0.500530\n",
       "7            8                  0.529504\n",
       "8            9                  0.556197\n",
       "9           10                  0.580748\n",
       "10          11                  0.604404\n",
       "11          12                  0.627411\n",
       "12          13                  0.648637\n",
       "13          14                  0.668736\n",
       "14          15                  0.688411\n",
       "15          16                  0.707683\n",
       "16          17                  0.726223\n",
       "17          18                  0.743569\n",
       "18          19                  0.760778\n",
       "19          20                  0.777326\n",
       "20          21                  0.792818\n",
       "21          22                  0.807985\n",
       "22          23                  0.822980\n",
       "23          24                  0.837251\n",
       "24          25                  0.851115\n",
       "25          26                  0.864456\n",
       "26          27                  0.877615\n",
       "27          28                  0.890451\n",
       "28          29                  0.902687\n",
       "29          30                  0.914478\n",
       "30          31                  0.925960\n",
       "31          32                  0.937067\n",
       "32          33                  0.947493\n",
       "33          34                  0.957267\n",
       "34          35                  0.966780\n",
       "35          36                  0.975667\n",
       "36          37                  0.984278\n",
       "37          38                  0.992505\n",
       "38          39                  1.000000\n",
       "39          40                  1.000000"
      ]
     },
     "metadata": {},
     "output_type": "display_data"
    }
   ],
   "source": [
    "var_explained_cum = np.cumsum(var_explained_40d)\n",
    "\n",
    "# display as a table\n",
    "var_explained_df = pd.DataFrame()\n",
    "var_explained_df['dimensions'] = np.array(list(range(1,len(var_explained_cum)+1)))\n",
    "var_explained_df['cumulative_var_explained'] = var_explained_cum\n",
    "display(var_explained_df)"
   ]
  },
  {
   "cell_type": "markdown",
   "metadata": {},
   "source": [
    "> Acima foi calculada a variância explicada cumulativa dos 40 componentes principais da PCA, então é armazenada a soma cumulativa da variância explicada em `var_explained_cum`, indicando quanto da variação total é capturada à medida que incluímos mais componentes. A tabela criada lista o número de dimensões (componentes) e a variância explicada cumulativa correspondente, facilitando a visualização do impacto incremental de adicionar cada componente adicional."
   ]
  },
  {
   "cell_type": "markdown",
   "metadata": {},
   "source": [
    "Agora serão geradas duas visualizações gráficas relacionadas à Análise de Componentes Principais (PCA) de um conjunto de dados. O primeiro gráfico exibirá a variância explicada cumulativa pelos primeiros 40 componentes da PCA, facilitando a identificação do número de dimensões necessárias para capturar uma porção significativa da variância total dos dados. O segundo gráfico mostrará a variância explicada por cada um desses 40 componentes individualmente, destacando a contribuição específica de cada dimensão para a explicação da variância. Ambos os gráficos são essenciais para cientistas de dados na tomada de decisões sobre a redução de dimensionalidade, otimizando o equilíbrio entre simplificação dos dados e preservação de informações cruciais."
   ]
  },
  {
   "cell_type": "code",
   "execution_count": 16,
   "metadata": {
    "colab": {
     "base_uri": "https://localhost:8080/",
     "height": 349
    },
    "colab_type": "code",
    "id": "g58KZDUJnae-",
    "outputId": "3592b7d1-5e6f-4043-f10f-d5e74cf28923",
    "scrolled": true
   },
   "outputs": [
    {
     "data": {
      "image/png": "[encoded data removed]",
      "text/plain": [
       "<Figure size 1296x360 with 2 Axes>"
      ]
     },
     "metadata": {},
     "output_type": "display_data"
    }
   ],
   "source": [
    "fig, ax = plt.subplots(1, 2, figsize=(18, 5))\n",
    "ax[0].scatter(range(1, 41), var_explained_cum)\n",
    "ax[0].set_xlabel(\"PCA Dimension\")\n",
    "ax[0].set_ylabel(\"Total Variance Captured\")\n",
    "ax[0].set_title(\"Cumulative Variance Explained by PCA\");\n",
    "ax[1].scatter(range(1, 41), var_explained_40d)\n",
    "ax[1].set_xlabel(\"PCA Dimension\")\n",
    "ax[1].set_ylabel(\"Variance Captured\")\n",
    "ax[1].set_title(\"Variance Explained by PCA\");"
   ]
  },
  {
   "cell_type": "markdown",
   "metadata": {
    "colab_type": "text",
    "id": "3xwKeM0fO9U6"
   },
   "source": [
    "A análise detalhada dos componentes principais da PCA revela que a inclusão de componentes adicionais não modifica os dois primeiros componentes principais, preservando sua contribuição à variância explicada. Isso nos permite explorar a adição de componentes além dos dois primeiros para abranger uma maior parcela da variabilidade total dos dados.\n",
    "\n",
    "A representação gráfica da variância explicada acumulada sugere um aumento na captura de variância com a inclusão de mais componentes, até o limite teórico de 40 componentes, dado que o conjunto de treinamento contém 40 amostras. A estratégia de seleção de componentes baseia-se no princípio de que cada novo componente deve contribuir significativamente para a explicação da variância total. Por exemplo, ao considerar 22 componentes, conseguimos explicar cerca de 80% da variância. No entanto, a obtenção de uma explicação completa de 100% exigiria praticamente dobrar o número de componentes, o que poderia comprometer a interpretabilidade dos resultados e aumentar o risco de sobreajuste.\n",
    "\n",
    "A análise do gráfico de variância explicada pelo PCA indica que a curva de ganho de informação começa a se achatar após o décimo componente, com adições subsequentes proporcionando ganhos marginais de aproximadamente 2% em variância explicada. Assim, a seleção de mais de 10 componentes introduziria complexidade adicional ao modelo sem contribuir proporcionalmente para a compreensão da variabilidade dos dados.\n",
    "\n",
    "Embora a seleção de apenas 10 componentes capture menos de dois terços da variância total (58%), essa escolha representa um equilíbrio entre reduzir a dimensionalidade e manter uma quantidade significativa de informação relevante. Idealmente, a determinação do número ótimo de componentes beneficiaria de técnicas como a validação cruzada para maximizar a capacidade de generalização do modelo.\n",
    "\n",
    "Conforme observado, seriam necessários 29 componentes para explicar no mínimo 90% da variabilidade, indicando um ponto de compromisso entre a complexidade do modelo e a captura de informação essencial contida no conjunto de dados."
   ]
  },
  {
   "cell_type": "markdown",
   "metadata": {
    "colab_type": "text",
    "id": "leSW_gW8O9VE"
   },
   "source": [
    "## Parte 2: Comparação entre Regressão Linear e Regressão Logística\n",
    "\n",
    "Neste segmento, abordaremos a aplicação e comparação da regressão linear e da regressão logística no contexto da classificação. Focaremos nossa análise em um único gene, `D29963_at`, para investigar e contrastar a eficácia de cada método de regressão. Esta abordagem permitirá uma compreensão mais profunda das características e limitações de ambos os modelos quando aplicados à classificação baseada em dados de expressão gênica."
   ]
  },
  {
   "cell_type": "markdown",
   "metadata": {
    "colab_type": "text",
    "id": "QXTZMVwdO9VO"
   },
   "source": [
    "**2.1 Implementação e Interpretação do Modelo de Regressão Linear**\n",
    "\n",
    "Nesta etapa, implementamos um modelo de regressão linear simples utilizando o preditor único `D29963_at` para prever o tipo de câncer no conjunto de treinamento. Após o ajuste, produzimos um histograma dos valores previstos para visualizar a distribuição das estimativas. Na interpretação dessas previsões, surge a tentativa de considerar os valores previstos como probabilidades do paciente ser diagnosticado com Leucemia Mieloide Aguda (LMA, `Tipo_de_câncer`=1). \n",
    "\n",
    "Contudo, essa interpretação enfrenta desafios fundamentais. A regressão linear, por natureza, produz um espectro contínuo de valores, que pode não se limitar ao intervalo [0, 1], necessário para uma interpretação direta em termos de probabilidade. Além disso, valores previstos fora desse intervalo desafiam a lógica probabilística, levantando questionamentos sobre a adequação do modelo linear para classificação binária neste contexto."
   ]
  },
  {
   "cell_type": "code",
   "execution_count": 17,
   "metadata": {
    "colab": {
     "base_uri": "https://localhost:8080/",
     "height": 376
    },
    "colab_type": "code",
    "id": "1k0jBGBZO9VW",
    "outputId": "9fc616f3-84fd-4caf-a000-fd3ea88a6f0c",
    "scrolled": true
   },
   "outputs": [
    {
     "data": {
      "text/html": [
       "<table class=\"simpletable\">\n",
       "<caption>OLS Regression Results</caption>\n",
       "<tr>\n",
       "  <th>Dep. Variable:</th>            <td>y</td>        <th>  R-squared:         </th> <td>   0.329</td>\n",
       "</tr>\n",
       "<tr>\n",
       "  <th>Model:</th>                   <td>OLS</td>       <th>  Adj. R-squared:    </th> <td>   0.311</td>\n",
       "</tr>\n",
       "<tr>\n",
       "  <th>Method:</th>             <td>Least Squares</td>  <th>  F-statistic:       </th> <td>   18.61</td>\n",
       "</tr>\n",
       "<tr>\n",
       "  <th>Date:</th>             <td>Wed, 06 Mar 2024</td> <th>  Prob (F-statistic):</th> <td>0.000110</td>\n",
       "</tr>\n",
       "<tr>\n",
       "  <th>Time:</th>                 <td>16:37:38</td>     <th>  Log-Likelihood:    </th> <td> -19.769</td>\n",
       "</tr>\n",
       "<tr>\n",
       "  <th>No. Observations:</th>      <td>    40</td>      <th>  AIC:               </th> <td>   43.54</td>\n",
       "</tr>\n",
       "<tr>\n",
       "  <th>Df Residuals:</th>          <td>    38</td>      <th>  BIC:               </th> <td>   46.92</td>\n",
       "</tr>\n",
       "<tr>\n",
       "  <th>Df Model:</th>              <td>     1</td>      <th>                     </th>     <td> </td>   \n",
       "</tr>\n",
       "<tr>\n",
       "  <th>Covariance Type:</th>      <td>nonrobust</td>    <th>                     </th>     <td> </td>   \n",
       "</tr>\n",
       "</table>\n",
       "<table class=\"simpletable\">\n",
       "<tr>\n",
       "      <td></td>         <th>coef</th>     <th>std err</th>      <th>t</th>      <th>P>|t|</th>  <th>[0.025</th>    <th>0.975]</th>  \n",
       "</tr>\n",
       "<tr>\n",
       "  <th>const</th>     <td>   -0.0587</td> <td>    0.119</td> <td>   -0.492</td> <td> 0.625</td> <td>   -0.300</td> <td>    0.183</td>\n",
       "</tr>\n",
       "<tr>\n",
       "  <th>D29963_at</th> <td>    1.2764</td> <td>    0.296</td> <td>    4.314</td> <td> 0.000</td> <td>    0.677</td> <td>    1.875</td>\n",
       "</tr>\n",
       "</table>\n",
       "<table class=\"simpletable\">\n",
       "<tr>\n",
       "  <th>Omnibus:</th>       <td> 5.833</td> <th>  Durbin-Watson:     </th> <td>   0.838</td>\n",
       "</tr>\n",
       "<tr>\n",
       "  <th>Prob(Omnibus):</th> <td> 0.054</td> <th>  Jarque-Bera (JB):  </th> <td>   5.011</td>\n",
       "</tr>\n",
       "<tr>\n",
       "  <th>Skew:</th>          <td> 0.775</td> <th>  Prob(JB):          </th> <td>  0.0816</td>\n",
       "</tr>\n",
       "<tr>\n",
       "  <th>Kurtosis:</th>      <td> 2.222</td> <th>  Cond. No.          </th> <td>    5.15</td>\n",
       "</tr>\n",
       "</table><br/><br/>Notes:<br/>[1] Standard Errors assume that the covariance matrix of the errors is correctly specified."
      ],
      "text/plain": [
       "<class 'statsmodels.iolib.summary.Summary'>\n",
       "\"\"\"\n",
       "                            OLS Regression Results                            \n",
       "==============================================================================\n",
       "Dep. Variable:                      y   R-squared:                       0.329\n",
       "Model:                            OLS   Adj. R-squared:                  0.311\n",
       "Method:                 Least Squares   F-statistic:                     18.61\n",
       "Date:                Wed, 06 Mar 2024   Prob (F-statistic):           0.000110\n",
       "Time:                        16:37:38   Log-Likelihood:                -19.769\n",
       "No. Observations:                  40   AIC:                             43.54\n",
       "Df Residuals:                      38   BIC:                             46.92\n",
       "Df Model:                           1                                         \n",
       "Covariance Type:            nonrobust                                         \n",
       "==============================================================================\n",
       "                 coef    std err          t      P>|t|      [0.025      0.975]\n",
       "------------------------------------------------------------------------------\n",
       "const         -0.0587      0.119     -0.492      0.625      -0.300       0.183\n",
       "D29963_at      1.2764      0.296      4.314      0.000       0.677       1.875\n",
       "==============================================================================\n",
       "Omnibus:                        5.833   Durbin-Watson:                   0.838\n",
       "Prob(Omnibus):                  0.054   Jarque-Bera (JB):                5.011\n",
       "Skew:                           0.775   Prob(JB):                       0.0816\n",
       "Kurtosis:                       2.222   Cond. No.                         5.15\n",
       "==============================================================================\n",
       "\n",
       "Notes:\n",
       "[1] Standard Errors assume that the covariance matrix of the errors is correctly specified.\n",
       "\"\"\""
      ]
     },
     "execution_count": 17,
     "metadata": {},
     "output_type": "execute_result"
    }
   ],
   "source": [
    "model_D29963at_ols = OLS(data_train_scaled.Cancer_type.values,\n",
    "                         sm.add_constant(data_train_scaled.D29963_at)\n",
    "                        ).fit()\n",
    "model_D29963at_ols.summary()"
   ]
  },
  {
   "cell_type": "markdown",
   "metadata": {},
   "source": [
    "> Aqui temos um modelo de regressão linear ordinária (OLS) ao conjunto de treinamento, usando `D29963_at` como preditor para o tipo de câncer. Primeiro, adiciona-se uma constante aos preditores para incluir o intercepto no modelo. Após o ajuste, `model_D29963at_ols.summary()` gera um resumo estatístico do modelo, detalhando coeficientes, estatísticas de teste, e outras métricas diagnósticas importantes para avaliar o desempenho do modelo."
   ]
  },
  {
   "cell_type": "markdown",
   "metadata": {},
   "source": [
    "Agora abaixo serão geradas previsões para os conjuntos de treinamento e teste usando o modelo de regressão linear ordinária (OLS) ajustado previamente. Para ambos os conjuntos, o código adiciona uma constante aos dados do preditor `D29963_at` escalonado para incluir o intercepto no modelo. `lin_y_pred_train` contém as previsões do modelo para o conjunto de treinamento, enquanto `lin_y_pred_test` contém as previsões para o conjunto de teste. Essas previsões são fundamentais para avaliar posteriormente o desempenho do modelo em dados conhecidos e novos."
   ]
  },
  {
   "cell_type": "code",
   "execution_count": 18,
   "metadata": {
    "colab": {},
    "colab_type": "code",
    "id": "rOIIS31yX4aT"
   },
   "outputs": [],
   "source": [
    "# get predictions for train and test\n",
    "lin_y_pred_train = model_D29963at_ols.predict(sm.add_constant(data_train_scaled.D29963_at))\n",
    "lin_y_pred_test = model_D29963at_ols.predict(sm.add_constant(data_test_scaled.D29963_at))"
   ]
  },
  {
   "cell_type": "code",
   "execution_count": 19,
   "metadata": {
    "colab": {},
    "colab_type": "code",
    "id": "uoPE84MQhD4k"
   },
   "outputs": [],
   "source": [
    "# helper functions\n",
    "def plot_hist(data, label, color, ax):\n",
    "    sns.distplot(data, color=color, label=label, ax=ax)\n",
    "\n",
    "def set_ax_title_label_legend(ax, title = None, xlabel=\"predictor\", ylabel=\"response\"):\n",
    "  if title is None:\n",
    "    ax.set_title(ylabel + \" vs. \" + xlabel)\n",
    "  else:\n",
    "    ax.set_title(title)\n",
    "  ax.set_xlabel(xlabel)\n",
    "  ax.set_ylabel(ylabel)\n",
    "  ax.legend()\n",
    "  \n",
    "def plot_overlay_hist(data_to_overlay, title, labels, colors, ax):\n",
    "  for i, data in enumerate(data_to_overlay):\n",
    "    plot_hist(data, labels[i], colors[i], ax)\n",
    "    # set labels\n",
    "    # call labels/legends function\n",
    "    set_ax_title_label_legend(ax,\n",
    "        title=title,\n",
    "        xlabel=labels[i],\n",
    "        ylabel=\"Frequency\")\n",
    "\n",
    "def plot_overlay_hist_series(data_list, titles, labels, colors, axes):\n",
    "  if len(axes) < len(data_list):\n",
    "    raise Exception('Fewer axes ({}) than data groups ({})'.format(\n",
    "      len(axes),\n",
    "      len(data_list)))\n",
    "  for i, data_to_overlay in enumerate(data_list):\n",
    "    plot_overlay_hist(data_to_overlay, titles[i], labels, colors, axes[i])"
   ]
  },
  {
   "cell_type": "markdown",
   "metadata": {},
   "source": [
    "> Este conjunto de funções auxiliares acima foi criado para simplificar a visualização de histogramas sobrepostos, permitindo uma comparação clara das distribuições entre diferentes grupos de dados. A primeira função, `plot_hist`, utiliza a Seaborn para plotar um histograma individual. A função `set_ax_title_label_legend` personaliza o título, os rótulos dos eixos e a legenda do gráfico. Já `plot_overlay_hist` combina múltiplos histogramas em um único eixo, aplicando diferentes cores e etiquetas para cada grupo de dados e configurando a aparência do gráfico. Por fim, `plot_overlay_hist_series` amplia essa capacidade para uma série de gráficos, facilitando a análise comparativa em conjuntos de dados múltiplos, melhorando assim a interpretação visual por parte de cientistas de dados."
   ]
  },
  {
   "cell_type": "code",
   "execution_count": 20,
   "metadata": {
    "colab": {
     "base_uri": "https://localhost:8080/",
     "height": 1047
    },
    "colab_type": "code",
    "id": "HxsD5MyYakFz",
    "outputId": "848abaed-f5fd-4a47-f99f-2f852c8bdd1c"
   },
   "outputs": [
    {
     "data": {
      "image/png": "[encoded data removed]",
      "text/plain": [
       "<Figure size 576x1152 with 2 Axes>"
      ]
     },
     "metadata": {},
     "output_type": "display_data"
    }
   ],
   "source": [
    "# histogram of predictions\n",
    "def plot_simple_linear_hist():\n",
    "  ## set up plots\n",
    "  nrows = 2\n",
    "  ncols = 1\n",
    "  fsize = (8, 16)\n",
    "  fig, ax = plt.subplots(nrows, ncols, figsize=fsize)\n",
    "\n",
    "  ## data to iterate over\n",
    "  colors = [ 'C2', 'C3', ]\n",
    "  y_train_to_plot = [ data_train_scaled.Cancer_type, lin_y_pred_train, ]\n",
    "  y_test_to_plot = [ data_test_scaled.Cancer_type, lin_y_pred_test, ]\n",
    "  y_labels = [  \"Actual response\", \"OLS on gene D29963_at\", ]\n",
    "  plot_labels = [ \"Training Dataset\", \"Test Dataset\", ]\n",
    "  plot_overlay_hist_series(\n",
    "      [y_train_to_plot, y_test_to_plot],\n",
    "      plot_labels,\n",
    "      y_labels,\n",
    "      colors,\n",
    "      ax)\n",
    "\n",
    "  # add vertical lines\n",
    "  threshold = 0.5\n",
    "  ymin, ymax = 0, 2.3\n",
    "  for a in ax:\n",
    "    a.vlines(threshold, 0, ymax, colors='k', linestyles='dashed')\n",
    "    a.set_ylim(ymin, ymax) # reset frame\n",
    "  \n",
    "  fig.suptitle(\"Cancer type: ALL[0] or ALM[1]\", fontsize=18)\n",
    "\n",
    "plot_simple_linear_hist()"
   ]
  },
  {
   "cell_type": "markdown",
   "metadata": {
    "colab_type": "text",
    "id": "u5WSvZGAO9WK"
   },
   "source": [
    "Na análise de previsões geradas pelo modelo de regressão linear ordinária (OLS) para classificar tipos de câncer, enfrentamos um desafio interpretativo. A natureza contínua das previsões do modelo OLS contrasta com a resposta binária esperada, resultando em valores que não se alinham diretamente à categorização binária de Leucemia Linfoblástica Aguda (ALL) e Leucemia Mieloide Aguda (AML).\n",
    "\n",
    "Nos histogramas gerados a partir dos conjuntos de treinamento e teste, observa-se que as respostas reais formam uma distribuição bimodal clara, representando os dois tipos de câncer. Contudo, as previsões do modelo OLS divergem dessa distribuição, apresentando valores em um espectro que inclui não apenas o intervalo entre 0 e 1, mas também valores além, como exemplificado por picos em torno de 0,4 e, notavelmente, valores acima de 1, como 1,2.\n",
    "\n",
    "Essa discrepância ressalta a inadequação da regressão linear para tarefas de classificação binária, onde a interpretação de valores fora do intervalo [0, 1] como probabilidades não é válida. A existência de previsões como 1,2 complica ainda mais a análise, pois desafia o conceito de probabilidade, que por definição deve se limitar a valores entre 0 e 1.\n",
    "\n",
    "Essa situação destaca as limitações do modelo OLS em contextos que exigem decisões baseadas na probabilidade de pertencimento a classes específicas. Em aplicações médicas, onde a precisão diagnóstica é crucial, essas limitações podem ter implicações significativas, enfatizando a necessidade de abordagens mais adequadas, como a regressão logística, para modelagem de dados de classificação binária."
   ]
  },
  {
   "cell_type": "markdown",
   "metadata": {
    "colab_type": "text",
    "id": "TpcBFFZUO9X-"
   },
   "source": [
    "**2.2 Conversão do Modelo de Regressão Linear em Classificador Binário**\n",
    "\n",
    "Transformamos o modelo de regressão linear ajustado em um classificador binário estabelecendo um limiar de decisão: previsões acima de 0,5 indicam `Cancer_type`=1 (Leucemia Mieloide Aguda, AML), enquanto valores abaixo ou iguais a 0,5 classificam os pacientes como `Cancer_type`=0 (Leucemia Linfoblástica Aguda, ALL). Esta abordagem nos permite utilizar o modelo linear original, projetado para previsões contínuas, em um contexto de classificação binária.\n",
    "\n",
    "A eficácia dessa conversão é avaliada por meio da precisão da classificação, uma medida que quantifica a proporção de previsões corretas em relação ao total de casos. A análise é realizada separadamente nos conjuntos de dados de treinamento e teste para verificar tanto a capacidade do modelo de aprender a partir dos dados disponíveis quanto a sua generalização para novos dados. Esta avaliação proporciona insights sobre a viabilidade de aplicar modelos lineares a problemas de classificação mediante a implementação de um limiar de decisão simples."
   ]
  },
  {
   "cell_type": "code",
   "execution_count": 21,
   "metadata": {
    "colab": {
     "base_uri": "https://localhost:8080/",
     "height": 34
    },
    "colab_type": "code",
    "id": "UJNcCgT3O9YI",
    "outputId": "b0bfbcd0-89c3-43b9-85e5-f81f1500baff"
   },
   "outputs": [
    {
     "name": "stdout",
     "output_type": "stream",
     "text": [
      "A precisão da classificação do modelo de classificação OLS no conjunto de treinamento é  0.8\n"
     ]
    }
   ],
   "source": [
    "# get quantitative response\n",
    "y_train_D29963at_predicted_ols_qr = model_D29963at_ols.predict(\n",
    "    sm.add_constant(data_train_scaled.D29963_at))\n",
    "# convert to binary response\n",
    "y_train_D29963at_predicted_ols = y_train_D29963at_predicted_ols_qr >= 0.5\n",
    "accuracy_train_D29963at_ols = (np.sum(\n",
    "    y_train_D29963at_predicted_ols == data_train_scaled.Cancer_type.values) /\n",
    "                               len(data_train_scaled.Cancer_type.values))\n",
    "\n",
    "print(\"A precisão da classificação do modelo de classificação OLS no conjunto de treinamento é \",\n",
    "      accuracy_train_D29963at_ols)"
   ]
  },
  {
   "cell_type": "markdown",
   "metadata": {},
   "source": [
    "> Após a conversão do modelo de regressão linear ordinária (OLS) ajustado para um classificador binário, utilizando um limiar de 0,5 para a classificação dos tipos de câncer, a precisão da classificação no conjunto de treinamento foi calculada e resultou em 0,8. Este processo envolveu primeiramente a geração de previsões contínuas para o conjunto de treinamento com base no gene `D29963_at`. Em seguida, essas previsões foram convertidas em respostas binárias, onde valores previstos iguais ou superiores a 0,5 foram classificados como `Cancer_type`=1 (AML) e valores abaixo de 0,5 como `Cancer_type`=0 (ALL). A precisão, que representa a proporção de previsões corretas em relação ao total de observações, indica que o modelo foi capaz de classificar corretamente 80% dos casos no conjunto de treinamento, demonstrando uma eficácia considerável para essa abordagem no contexto de classificação binária."
   ]
  },
  {
   "cell_type": "code",
   "execution_count": 22,
   "metadata": {
    "colab": {
     "base_uri": "https://localhost:8080/",
     "height": 34
    },
    "colab_type": "code",
    "id": "GUYpg31IxsXe",
    "outputId": "e4019955-af5d-47a8-85e3-b21944c86d24"
   },
   "outputs": [
    {
     "name": "stdout",
     "output_type": "stream",
     "text": [
      "A precisão da classificação do modelo de classificação OLS no conjunto de teste é  0.7575757575757576\n"
     ]
    }
   ],
   "source": [
    "# get quantitative response\n",
    "y_test_D29963at_predicted_ols_qr = model_D29963at_ols.predict(\n",
    "    sm.add_constant(data_test_scaled.D29963_at))\n",
    "# convert to binary response\n",
    "y_test_D29963at_predicted_ols = y_test_D29963at_predicted_ols_qr >= 0.5\n",
    "accuracy_test_D29963at_ols = (np.sum(\n",
    "    y_test_D29963at_predicted_ols == data_test_scaled.Cancer_type.values) /\n",
    "                              len(data_test_scaled.Cancer_type.values))\n",
    "\n",
    "print(\"A precisão da classificação do modelo de classificação OLS no conjunto de teste é \",\n",
    "      accuracy_test_D29963at_ols)"
   ]
  },
  {
   "cell_type": "markdown",
   "metadata": {},
   "source": [
    "Após a aplicação do modelo de regressão linear ordinária (OLS) ajustado para classificação binária usando um limiar de 0,5, a precisão da classificação no conjunto de teste foi de aproximadamente 75,75%. Este resultado foi obtido convertendo as previsões contínuas do modelo para o conjunto de teste em respostas binárias, onde previsões iguais ou superiores a 0,5 indicam `Cancer_type`=1 (AML), e inferiores a 0,5 indicam `Cancer_type`=0 (ALL). A precisão de 75,75% no conjunto de teste, comparada com 80% no conjunto de treinamento, reflete a capacidade do modelo de generalizar para novos dados, embora com uma leve diminuição na precisão.\n",
    "\n",
    "Contudo, observa-se que o modelo OLS gerou previsões fora do intervalo [0, 1], ou seja, valores superiores a 1 e inferiores a 0. Esses valores são intrinsecamente desafiadores de interpretar dentro do contexto de classificação binária, pois contradizem a natureza probabilística esperada das previsões. Este fenômeno destaca uma limitação da utilização de modelos de regressão linear para tarefas de classificação sem ajustes adicionais ou considerações interpretativas específicas."
   ]
  },
  {
   "cell_type": "markdown",
   "metadata": {
    "colab_type": "text",
    "id": "KbCSyRinO9Y2"
   },
   "source": [
    "**2.3 Implementação do Modelo de Regressão Logística**\n",
    "\n",
    "Procedemos com o ajuste de um modelo de regressão logística ao conjunto de treinamento para comparar seu desempenho com o modelo de regressão linear previamente implementado. Avaliamos as precisões de classificação nos conjuntos de treinamento e teste, buscando discernir diferenças significativas entre os modelos.\n",
    "\n",
    "Caso as precisões de classificação do modelo de regressão logística se mostrem similares às do modelo linear, isso pode indicar que a fronteira de decisão para classificar os tipos de câncer, baseada no preditor `D29963_at`, não se beneficia significativamente da modelagem das probabilidades de forma logística em comparação com a abordagem linear. Isso sugere que, para este preditor específico e a configuração dos dados, ambas as abordagens possuem uma capacidade comparável de capturar a relação entre o preditor e a resposta binária, refletindo na similaridade das precisões de classificação observadas."
   ]
  },
  {
   "cell_type": "code",
   "execution_count": 23,
   "metadata": {
    "colab": {
     "base_uri": "https://localhost:8080/",
     "height": 119
    },
    "colab_type": "code",
    "id": "Z-wnCaRGO9ZE",
    "outputId": "57ffcac0-d884-417a-8e4d-d9dbb3cc347d"
   },
   "outputs": [
    {
     "name": "stdout",
     "output_type": "stream",
     "text": [
      "Coefficients:\n",
      "[[10.26321291]]\n",
      "Intercepts:\n",
      "[-3.99441918]\n",
      "Train: 80.0%\n",
      "Test: 75.75757575757575%\n"
     ]
    }
   ],
   "source": [
    "BIG_C = 10**5\n",
    "columns = ['D29963_at']\n",
    "fitted_lr = LogisticRegression(\n",
    "    C=BIG_C).fit(\n",
    "    X_train_scaled[columns],\n",
    "    y_train)\n",
    "\n",
    "# predict\n",
    "y_pred_train = fitted_lr.predict(X_train_scaled[columns])\n",
    "y_pred_test = fitted_lr.predict(X_test_scaled[columns])\n",
    "    \n",
    "# performance\n",
    "train_score = accuracy_score(y_train, y_pred_train) * 100\n",
    "test_score = accuracy_score(y_test, y_pred_test) * 100\n",
    "\n",
    "print(\"Coefficients:\")\n",
    "print(fitted_lr.coef_)\n",
    "print(\"Intercepts:\")\n",
    "print(fitted_lr.intercept_)\n",
    "print(\"Train: {}%\".format(train_score))\n",
    "print(\"Test: {}%\".format(test_score))"
   ]
  },
  {
   "cell_type": "markdown",
   "metadata": {
    "colab_type": "text",
    "id": "MJbsN238O9Zm"
   },
   "source": [
    "Ao aplicarmos tanto o modelo de regressão linear quanto o modelo de regressão logística ao mesmo conjunto de dados, utilizando o gene `D29963_at` como preditor, observamos que ambos alcançaram precisões de classificação similares. Isso sugere que a linha reta derivada do modelo linear e a curva logística do modelo de regressão logística separam os pontos de dados de maneira comparável. Particularmente, os dados com níveis de expressão médios desse gene não parecem fornecer uma base clara para a distinção entre as classes, possivelmente devido à ausência de muitos pontos nessa região intermediária do espaço de características.\n",
    "\n",
    "A implementação do modelo de regressão logística foi feita com um valor de `C` extremamente alto (10^5), indicando uma regularização quase nula, o que permite que o modelo se ajuste livremente aos dados. Os coeficientes e interceptos gerados pelo modelo logístico refletem a relação entre o preditor e a probabilidade de cada classe de câncer.\n",
    "\n",
    "Os resultados de precisão no treinamento e no teste foram quantificados e expressos em porcentagens, demonstrando que ambos os modelos possuem desempenhos semelhantes na tarefa de classificação binária. Essa similaridade de desempenho entre um modelo linear simples e um modelo logístico pode indicar que a variável preditora selecionada tem um poder discriminatório limitado para as categorias de câncer em questão, ou que a distribuição dos dados em torno da fronteira de decisão é relativamente simétrica."
   ]
  },
  {
   "cell_type": "markdown",
   "metadata": {
    "colab_type": "text",
    "id": "352qpYolO9aG"
   },
   "source": [
    "**2.4 Visualização Comparativa de Modelos de Regressão**\n",
    "\n",
    "Neste passo, desenvolvemos uma visualização integrada que reúne quatro elementos essenciais para comparar a performance dos modelos de regressão linear e logística:\n",
    "\n",
    "1. A relação linear entre o gene `D29963_at` e a resposta predita pelo modelo de regressão linear.\n",
    "2. As probabilidades de classificação geradas pelo modelo de regressão logística, vinculadas ao mesmo gene.\n",
    "3. A distribuição das respostas binárias reais do conjunto de teste, permitindo a visualização direta da correspondência entre as previsões dos modelos e os resultados verdadeiros.\n",
    "4. Uma linha horizontal marcada em $y=0,5$, servindo como um limiar de decisão para classificação binária, facilitando a identificação de quão bem cada modelo separa as classes.\n",
    "\n",
    "Esta figura conjunta proporciona uma análise visual abrangente da eficácia de ambos os modelos na discriminação entre as categorias de câncer, com base no preditor `D29963_at`. Ao examinar como as previsões se alinham com as classificações reais e a forma como cada modelo se aproxima da linha de decisão, podemos avaliar qual dos dois se mostra mais promissor para a tarefa de classificação binária, levando em consideração tanto a precisão quanto a interpretabilidade das previsões geradas."
   ]
  },
  {
   "cell_type": "code",
   "execution_count": 24,
   "metadata": {
    "colab": {
     "base_uri": "https://localhost:8080/",
     "height": 700
    },
    "colab_type": "code",
    "id": "1s3dxBEcO9aS",
    "outputId": "f94d6ea8-fc15-4d10-c47e-338988d5f062"
   },
   "outputs": [
    {
     "name": "stdout",
     "output_type": "stream",
     "text": [
      "\n"
     ]
    },
    {
     "data": {
      "image/png": "[encoded data removed]",
      "text/plain": [
       "<Figure size 720x720 with 1 Axes>"
      ]
     },
     "metadata": {},
     "output_type": "display_data"
    }
   ],
   "source": [
    "fig, ax = plt.subplots(1,1, figsize=(10, 10))\n",
    "\n",
    "colors = ['C0', 'C4', 'C2']\n",
    "\n",
    "binary_size = 120\n",
    "\n",
    "# linear regression\n",
    "# quantitative response\n",
    "plt.scatter(data_test_scaled.D29963_at,\n",
    "            y_test_D29963at_predicted_ols_qr,\n",
    "            color=colors[0],\n",
    "            label = ' Linear regression quantitative response')\n",
    "# binary response\n",
    "plt.scatter(data_test_scaled.D29963_at,\n",
    "            y_test_D29963at_predicted_ols,\n",
    "            color=colors[0],\n",
    "            alpha=0.5,\n",
    "            s=binary_size,\n",
    "            label = ' Linear regression binary response')\n",
    "\n",
    "# logistic regression\n",
    "# probabilities\n",
    "y_prob_test = fitted_lr.predict_proba(\n",
    "    data_test_scaled.D29963_at.values.reshape(-1,1))[:,1]\n",
    "plt.scatter(data_test_scaled.D29963_at,\n",
    "            y_prob_test,\n",
    "            color=colors[1],\n",
    "            label = ' Logistic regression probability')\n",
    "# binary response\n",
    "plt.scatter(data_test_scaled.D29963_at,\n",
    "            y_pred_test,\n",
    "            s=binary_size,\n",
    "            color=colors[1],\n",
    "            alpha=0.5,\n",
    "            label = ' Logistic regression binary response')\n",
    "\n",
    "# true test response\n",
    "# binary response\n",
    "plt.scatter(data_test_scaled.D29963_at,\n",
    "            y_test,\n",
    "            color=colors[2],\n",
    "            marker='+',\n",
    "            alpha=1,\n",
    "            label = ' True binary response')\n",
    "\n",
    "# add y tick marks for cancer types?\n",
    "ax.axhline(y = 0.5, color = 'k', linestyle = '--')\n",
    "plt.ylabel(\"response\", fontsize=16)\n",
    "plt.xlabel(\"{} expression level\".format(columns[0]), fontsize=16)\n",
    "plt.legend(loc=\"best\", bbox_to_anchor=(1,1))\n",
    "plt.suptitle(\n",
    "    \"Linear and Logistic Regression Binary Predictions on Test Dataset\",\n",
    "    fontsize=16)\n",
    "plt.title(\n",
    "    \"\\nCancer types ALL[0]/ALM[1] vs. D29963_at gene expression level\",\n",
    "    fontsize=16)\n",
    "print(\"\") # suppress message\n"
   ]
  },
  {
   "cell_type": "markdown",
   "metadata": {
    "colab_type": "text",
    "id": "UkEKB_s-O9aw"
   },
   "source": [
    "A análise comparativa dos modelos de regressão linear e logística, baseada nas previsões para o conjunto de teste, revela que ambos apresentam desempenhos similares na classificação binária, embora com diferenças sutis em seus erros. A regressão linear produziu um falso negativo adicional em comparação com a regressão logística, que, por sua vez, gerou um falso positivo a mais. Essa observação sugere que, apesar de suas diferenças metodológicas, os modelos têm capacidades comparáveis de prever a resposta correta em contextos binários, com pequenas variações nos tipos de erro cometidos.\n",
    "\n",
    "Um ponto crucial é a natureza das previsões de cada modelo: a regressão logística fornece probabilidades que se enquadram naturalmente no intervalo [0, 1], uma propriedade vantajosa para interpretação em contextos de classificação. Em contraste, a regressão linear pode produzir valores fora desse intervalo, complicando a interpretação direta das previsões como probabilidades binárias.\n",
    "\n",
    "O gráfico visualiza essas nuances, representando as respostas quantitativas e binárias previstas por ambos os modelos, além das probabilidades geradas pela regressão logística, contra os níveis de expressão do gene `D29963_at`. A linha horizontal em y=0,5 serve como um limiar de decisão para classificação binária, ajudando a avaliar a proximidade das previsões com as classificações reais.\n",
    "\n",
    "Embora as diferenças na performance de previsão entre os modelos sejam mínimas, a regressão logística oferece a vantagem de interpretabilidade ao produzir probabilidades dentro de um intervalo esperado para classificações binárias, destacando sua aplicabilidade em análises que exigem uma compreensão probabilística da decisão."
   ]
  },
  {
   "cell_type": "markdown",
   "metadata": {
    "colab_type": "text",
    "id": "jKnx8LAbO9bK"
   },
   "source": [
    "## Parte 3: Implementação da Regressão Logística Múltipla\n",
    "\n",
    "**3.1 Desenvolvimento e Avaliação de um Modelo Abrangente**\n",
    "\n",
    "Neste segmento, avançamos para configurar e avaliar um modelo de regressão logística múltipla, incorporando a totalidade dos preditores genéticos disponíveis no conjunto de dados. Este passo visa explorar o impacto de utilizar um espectro mais amplo de informações genéticas na capacidade do modelo de prever corretamente os tipos de câncer.\n",
    "\n",
    "A eficácia do modelo de regressão logística múltipla é mensurada por meio da precisão da classificação e comparada com os resultados dos modelos univariados da Parte 2, que se baseavam em um único gene preditor (D29963_at). Essa comparação é realizada tanto para o conjunto de treinamento quanto para o conjunto de teste, permitindo avaliar não apenas o ajuste do modelo aos dados conhecidos, mas também sua generalização para novos dados."
   ]
  },
  {
   "cell_type": "code",
   "execution_count": 25,
   "metadata": {
    "colab": {
     "base_uri": "https://localhost:8080/",
     "height": 136
    },
    "colab_type": "code",
    "id": "U68cHr73GTuR",
    "outputId": "241c40f5-1447-4445-fcf2-26034b079d9c"
   },
   "outputs": [
    {
     "name": "stdout",
     "output_type": "stream",
     "text": [
      "Coeficientes:\n",
      "[[ 0.02848617 -0.04367915 -0.00038986 ... -0.00205262 -0.0118178\n",
      "   0.07138084]]\n",
      "Interceptos:\n",
      "[0.00500296]\n",
      "Trainamento: 100.0%\n",
      "Teste: 100.0%\n"
     ]
    }
   ],
   "source": [
    "fitted_lr = LogisticRegression(C=BIG_C).fit(X_train_scaled, y_train)\n",
    "\n",
    "# predict\n",
    "y_pred_train = fitted_lr.predict(X_train_scaled)\n",
    "y_pred_test = fitted_lr.predict(X_test_scaled)\n",
    "    \n",
    "# performance\n",
    "train_score = accuracy_score(y_train, y_pred_train) * 100\n",
    "test_score = accuracy_score(y_test, y_pred_test) * 100\n",
    "\n",
    "print(\"Coeficientes:\")\n",
    "print(fitted_lr.coef_)\n",
    "print(\"Interceptos:\")\n",
    "print(fitted_lr.intercept_)\n",
    "print(\"Trainamento: {}%\".format(train_score))\n",
    "print(\"Teste: {}%\".format(test_score))"
   ]
  },
  {
   "cell_type": "code",
   "execution_count": 26,
   "metadata": {
    "colab": {
     "base_uri": "https://localhost:8080/",
     "height": 173
    },
    "colab_type": "code",
    "id": "yG0cwQqxQIsG",
    "outputId": "cd3bce0b-058f-45f1-a223-5152ae27e1b0"
   },
   "outputs": [
    {
     "data": {
      "text/html": [
       "<div>\n",
       "<style scoped>\n",
       "    .dataframe tbody tr th:only-of-type {\n",
       "        vertical-align: middle;\n",
       "    }\n",
       "\n",
       "    .dataframe tbody tr th {\n",
       "        vertical-align: top;\n",
       "    }\n",
       "\n",
       "    .dataframe thead th {\n",
       "        text-align: right;\n",
       "    }\n",
       "</style>\n",
       "<table border=\"1\" class=\"dataframe\">\n",
       "  <thead>\n",
       "    <tr style=\"text-align: right;\">\n",
       "      <th>Predicted</th>\n",
       "      <th>0</th>\n",
       "      <th>1</th>\n",
       "      <th>All</th>\n",
       "    </tr>\n",
       "    <tr>\n",
       "      <th>Actual</th>\n",
       "      <th></th>\n",
       "      <th></th>\n",
       "      <th></th>\n",
       "    </tr>\n",
       "  </thead>\n",
       "  <tbody>\n",
       "    <tr>\n",
       "      <th>0</th>\n",
       "      <td>23</td>\n",
       "      <td>0</td>\n",
       "      <td>23</td>\n",
       "    </tr>\n",
       "    <tr>\n",
       "      <th>1</th>\n",
       "      <td>0</td>\n",
       "      <td>10</td>\n",
       "      <td>10</td>\n",
       "    </tr>\n",
       "    <tr>\n",
       "      <th>All</th>\n",
       "      <td>23</td>\n",
       "      <td>10</td>\n",
       "      <td>33</td>\n",
       "    </tr>\n",
       "  </tbody>\n",
       "</table>\n",
       "</div>"
      ],
      "text/plain": [
       "Predicted   0   1  All\n",
       "Actual                \n",
       "0          23   0   23\n",
       "1           0  10   10\n",
       "All        23  10   33"
      ]
     },
     "execution_count": 26,
     "metadata": {},
     "output_type": "execute_result"
    }
   ],
   "source": [
    "# classification counts\n",
    "# overview of false positives and false negatives\n",
    "pd.crosstab(y_test, y_pred_test,\n",
    "            margins=True,\n",
    "            rownames=['Actual'],\n",
    "            colnames=['Predicted'])"
   ]
  },
  {
   "cell_type": "markdown",
   "metadata": {
    "colab_type": "text",
    "id": "L2G4ztOeO9cS"
   },
   "source": [
    "Ao aplicar um modelo de regressão logística múltipla utilizando todos os 7.129 preditores genéticos disponíveis, observamos um resultado excepcionalmente alto, com precisões de classificação atingindo 100% tanto no conjunto de treinamento quanto no de teste. Esta performance sugere que o modelo é extremamente eficaz em prever os tipos de câncer nos dados analisados. Entretanto, essa eficácia levanta preocupações sobre a possibilidade de overfitting, uma condição em que o modelo se ajusta tão bem aos dados de treinamento que perde a capacidade de generalizar para novos dados. Esse risco é particularmente relevante devido ao elevado número de preditores em relação ao número limitado de pontos de dados.\n",
    "\n",
    "A discrepância entre os resultados obtidos usando um único preditor e múltiplos preditores indica a existência de correlações entre os genes, que o modelo de múltiplos preditores consegue capturar. Uma análise mais detalhada dos coeficientes do modelo pode oferecer insights sobre quais preditores têm maior influência nas previsões e ajudar a entender a dinâmica complexa entre as variáveis.\n",
    "\n",
    "A impressão dos coeficientes e interceptos do modelo fornece uma visão quantitativa dessa influência. Adicionalmente, uma análise das classificações erradas (falsos positivos e falsos negativos) por meio de uma tabela de contingência entre os valores reais e os previstos no conjunto de teste pode revelar padrões de erro específicos, contribuindo para a compreensão da performance do modelo em diferentes cenários.\n",
    "\n",
    "Portanto, embora os resultados iniciais demonstrem uma precisão excepcional, é crucial proceder com uma avaliação cuidadosa para garantir que o modelo mantenha sua relevância e aplicabilidade em contextos além dos dados de treinamento, minimizando o risco de overfitting e maximizando a utilidade prática da regressão logística múltipla na classificação de tipos de câncer."
   ]
  },
  {
   "cell_type": "markdown",
   "metadata": {
    "colab_type": "text",
    "id": "MTUApTUbO9ck"
   },
   "source": [
    "**3.2 Avaliação da Significância dos Coeficientes no Modelo de Regressão Logística Múltipla**\n",
    "\n",
    "Nesta análise, investigamos a significância estatística dos coeficientes gerados pelo modelo de regressão logística múltipla, utilizando um critério de significância de 5%. Mantendo o valor de regularização `C=100000` constante, como na configuração anterior, nosso objetivo é determinar quantos dos coeficientes estimados diferem significativamente de zero, refletindo uma influência relevante dos respectivos preditores genéticos na previsão do tipo de câncer.\n",
    "\n",
    "Este passo é essencial para compreender quais variáveis contribuem de maneira significativa para o modelo, permitindo uma interpretação mais aprofundada dos resultados e potencialmente orientando futuras investigações sobre os mecanismos genéticos subjacentes aos diferentes tipos de câncer. A identificação de coeficientes estatisticamente significativos destaca os preditores mais informativos dentre os milhares considerados, evidenciando a complexidade e a riqueza dos dados genéticos na classificação do câncer."
   ]
  },
  {
   "cell_type": "code",
   "execution_count": 27,
   "metadata": {
    "colab": {},
    "colab_type": "code",
    "id": "Oq4XDVnuO9cu"
   },
   "outputs": [],
   "source": [
    "#Creating model\n",
    "model = LogisticRegression(C=BIG_C)\n",
    "\n",
    "#Initializing variables\n",
    "bootstrap_iterations = 1000\n",
    "coeffs = np.zeros((bootstrap_iterations,\n",
    "                   data_train_scaled.shape[1]-1))\n",
    "\n",
    "#Conduct bootstraping iterations\n",
    "for i in range(bootstrap_iterations):\n",
    "    sample = data_train_scaled.sample(frac=1, replace=True)\n",
    "    y_train_sample = sample['Cancer_type']\n",
    "    X_train_sample = sample.drop(['Cancer_type'], axis=1)\n",
    "    model.fit(X_train_sample, y_train_sample)  \n",
    "    coeffs[i,:] = model.coef_    \n",
    "\n",
    "#Find Significant Columns, Count\n",
    "coeffs_count, significant_cols = 0, []\n",
    "for i in range(coeffs.shape[1]):\n",
    "    coeff_samples = coeffs[:,i]\n",
    "    lower_bound = np.percentile(coeff_samples, 2.5)\n",
    "    upper_bound = np.percentile(coeff_samples, 97.5) \n",
    "    if lower_bound>0 or upper_bound<0:\n",
    "        coeffs_count += 1\n",
    "        significant_cols.append(data_train_scaled.columns[i])"
   ]
  },
  {
   "cell_type": "code",
   "execution_count": 28,
   "metadata": {
    "colab": {
     "base_uri": "https://localhost:8080/",
     "height": 51
    },
    "colab_type": "code",
    "id": "JHVmUWy0sF-e",
    "outputId": "16872769-db7b-469b-d43d-0c4113f37fba"
   },
   "outputs": [
    {
     "name": "stdout",
     "output_type": "stream",
     "text": [
      "Contagem de 95% de coeficientes estatisticamente significativos : 1854\n",
      "Discussão: De 7130 coeficientes, somente 1854 são significativos com p > 0.05.\n",
      "Isso representa apenas 26.00% deles.\n"
     ]
    }
   ],
   "source": [
    "print('Contagem de 95% de coeficientes estatisticamente significativos :', coeffs_count)\n",
    "print((\"Discussão: De 7130 coeficientes, \" +\n",
    "       \"somente {} são significativos com p > 0.05.\\n\" +\n",
    "       \"Isso representa apenas {:.2f}% deles.\").format(coeffs_count, coeffs_count/7130*100))"
   ]
  },
  {
   "cell_type": "markdown",
   "metadata": {},
   "source": [
    "Utilizando uma técnica de bootstrap com 1000 iterações para avaliar a significância estatística dos coeficientes do modelo de regressão logística múltipla, descobrimos que, dos 7130 coeficientes analisados, apenas 1854 são estatisticamente significativos com um nível de confiança de 95% (p > 0,05). Isso corresponde a aproximadamente 26% do total de coeficientes.\n",
    "\n",
    "Este resultado destaca que uma parcela substancial dos preditores genéticos não possui uma influência significativa na previsão dos tipos de câncer no modelo utilizado. O método de bootstrap, ao ressampler os dados e ajustar o modelo repetidamente, proporciona uma avaliação robusta da variabilidade dos coeficientes, permitindo identificar quais preditores mantêm sua significância estatística em diferentes amostras dos dados.\n",
    "\n",
    "A identificação desses 1854 coeficientes significativos fornece insights valiosos sobre os genes que têm maior impacto na distinção entre os tipos de câncer, orientando pesquisas futuras e potencialmente melhorando a compreensão dos mecanismos biológicos envolvidos. A lista de `significant_cols` contém os nomes desses preditores relevantes, servindo como uma base para investigações mais detalhadas sobre suas funções e interações no contexto da oncologia genética."
   ]
  },
  {
   "cell_type": "markdown",
   "metadata": {
    "colab_type": "text",
    "id": "hoOQUQJrO9dq"
   },
   "source": [
    "**3.3 Visualização de Probabilidades Previstas pelo Modelo de Regressão Logística Múltipla**\n",
    "\n",
    "Implementamos a função `visualize_prob` para analisar graficamente as probabilidades de classificação geradas pelo modelo de regressão logística múltipla nos conjuntos de dados de treinamento e teste. Esta visualização estrategicamente organiza os pontos de dados ao longo de uma linha vertical, colorindo-os diferentemente de acordo com a classe de câncer a que pertencem, e destaca o limiar de decisão de classificação em 0,5 através de uma linha horizontal pontilhada.\n",
    "\n",
    "Através dessa visualização, procuramos identificar diferenças na distribuição das probabilidades previstas entre os conjuntos de treinamento e teste. Especial atenção é dada aos pontos cujas probabilidades previstas são próximas ao limiar de 0,5, pois estes representam casos de classificação mais incerta, onde o modelo mostra indecisão entre as categorias de câncer.\n",
    "\n",
    "Pontos com probabilidades próximas a 0,5 sugerem uma fronteira de decisão menos clara para esses casos específicos, indicando potencialmente uma sobreposição nas características dos tipos de câncer ou uma limitação do modelo em distinguir claramente entre as classes nesses pontos. A existência desses casos pode ser um indicativo para aprimoramentos futuros no modelo ou para a investigação mais detalhada das propriedades dessas amostras."
   ]
  },
  {
   "cell_type": "code",
   "execution_count": 29,
   "metadata": {
    "colab": {},
    "colab_type": "code",
    "id": "W0jwpZIVO9bS"
   },
   "outputs": [],
   "source": [
    "def visualize_prob(model, x, y, ax):\n",
    "    # Use the model to predict probabilities for x\n",
    "    y_pred = model.predict_proba(x)\n",
    "    \n",
    "    # Separate the predictions on the label 1 and label 0 points\n",
    "    ypos = y_pred[y==1]\n",
    "    yneg = y_pred[y==0]\n",
    "    \n",
    "    # Count the number of label 1 and label 0 points\n",
    "    npos = ypos.shape[0]\n",
    "    nneg = yneg.shape[0]\n",
    "    \n",
    "    # Plot the probabilities on a vertical line at x = 0, \n",
    "    # with the positive points in blue and negative points in red\n",
    "    pos_handle = ax.plot(np.zeros((npos,1)), ypos[:,1], 'bo', label = 'Cancer Type 1')\n",
    "    neg_handle = ax.plot(np.zeros((nneg,1)), yneg[:,1], 'ro', label = 'Cancer Type 0')\n",
    "\n",
    "    # Line to mark prob 0.5\n",
    "    ax.axhline(y = 0.5, color = 'k', linestyle = '--')\n",
    "    \n",
    "    # Add y-label and legend, do not display x-axis, set y-axis limit\n",
    "    ax.set_ylabel('Probability of AML class')\n",
    "    ax.legend(loc = 'best')\n",
    "    ax.get_xaxis().set_visible(False)\n",
    "    ax.set_ylim([0,1])"
   ]
  },
  {
   "cell_type": "code",
   "execution_count": 30,
   "metadata": {
    "colab": {
     "base_uri": "https://localhost:8080/",
     "height": 378
    },
    "colab_type": "code",
    "id": "C99ab4_EO9d0",
    "outputId": "32150908-3fd5-4bba-b3e9-f6c1c8e87079"
   },
   "outputs": [
    {
     "data": {
      "image/png": "[encoded data removed]",
      "text/plain": [
       "<Figure size 864x432 with 2 Axes>"
      ]
     },
     "metadata": {},
     "output_type": "display_data"
    }
   ],
   "source": [
    "\"\"\" Plot classification model \"\"\"\n",
    "\n",
    "#Create Plot\n",
    "fig = plt.figure(figsize=(12,6))\n",
    "ax1 = fig.add_subplot(121)\n",
    "ax2 = fig.add_subplot(122)\n",
    "\n",
    "#Plot Training\n",
    "visualize_prob(fitted_lr, X_train_scaled, y_train, ax1)\n",
    "ax1.set_title('Training Dataset')\n",
    "\n",
    "#Plot Testing\n",
    "visualize_prob(fitted_lr, X_test_scaled, y_test, ax2)\n",
    "ax2.set_title('Testing Dataset')\n",
    "ax2.set_ylabel('')\n",
    "plt.show()\n"
   ]
  },
  {
   "cell_type": "markdown",
   "metadata": {
    "colab_type": "text",
    "id": "Q29W9MhRO9eG"
   },
   "source": [
    "A visualização das probabilidades previstas pelo modelo de regressão logística múltipla revelou uma distribuição concentrada das probabilidades em 0 e 1 para o conjunto de treinamento, indicando uma alta confiança do modelo nas suas previsões. No entanto, para o conjunto de teste, as probabilidades apresentaram uma distribuição mais ampla, incluindo pontos com probabilidades próximas ao limiar de decisão de 0,5, particularmente entre amostras classificadas como ALM (câncer tipo 1).\n",
    "\n",
    "Essa observação sugere que, embora o modelo tenha demonstrado uma precisão de 100% no conjunto de teste, existe um grupo de pontos cuja classificação pode ser sensível a pequenas variações no limiar de decisão. Esses pontos, localizados próximos ao valor de probabilidade de 0,5, representam casos de classificação ambígua, onde o modelo não possui uma forte convicção quanto à categoria de câncer. Tais amostras são potencialmente vulneráveis a serem classificadas incorretamente como falsos positivos ou falsos negativos em situações de ajuste fino do modelo ou variações nos dados.\n",
    "\n",
    "A função `visualize_prob` empregada para gerar as visualizações fornece uma representação gráfica direta dessa dinâmica, plotando as probabilidades de ser da classe ALM ao longo de uma linha vertical, com pontos positivos em azul e negativos em vermelho, além de destacar o limiar de decisão com uma linha pontilhada preta. Essa análise visual oferece uma compreensão mais profunda da performance e das limitações do modelo, destacando a importância de considerar a distribuição das probabilidades previstas além da métrica de precisão global."
   ]
  },
  {
   "cell_type": "markdown",
   "metadata": {
    "colab_type": "text",
    "id": "cLhH159QO9eM"
   },
   "source": [
    "**3.4 Avaliação da Capacidade de Generalização e Estratégias Futuras**\n",
    "\n",
    "Apesar da impressionante precisão de 100% alcançada pelo modelo tanto em treinamento quanto em teste, a análise via bootstrap revela que somente aproximadamente 25% dos coeficientes têm significância estatística. Para aprimorar a generalização do modelo, é recomendável a aplicação de técnicas de regularização ou a realização de uma Análise de Componentes Principais (PCA). Essas estratégias ajudam a contornar os desafios impostos pela alta dimensionalidade dos dados, potencialmente melhorando a precisão das previsões e facilitando a interpretação do modelo."
   ]
  },
  {
   "cell_type": "markdown",
   "metadata": {
    "colab_type": "text",
    "id": "UEPXfgw4O9eY"
   },
   "source": [
    "## Parte 4: Regressão de Componentes Principais (PCR)\n",
    "\n",
    "Diante dos desafios apresentados por conjuntos de dados de alta dimensionalidade, que podem comprometer a precisão e a generalização dos modelos, a redução de dimensionalidade surge como uma estratégia essencial. A Regressão de Componentes Principais (PCR) é uma técnica eficaz nesse contexto, combinando a Análise de Componentes Principais (PCA) com a regressão logística. O objetivo é construir um modelo mais simplificado e interpretável, utilizando um número reduzido de componentes principais que retém pelo menos 90% da variância explicativa dos preditores, equilibrando assim a complexidade do modelo com a preservação de informações cruciais."
   ]
  },
  {
   "cell_type": "markdown",
   "metadata": {
    "colab_type": "text",
    "id": "QKILzqplO9ee"
   },
   "source": [
    "**4.1 Desenvolvimento e Comparação de Modelos PCR**\n",
    "\n",
    "Neste estágio, avançamos com a implementação de dois modelos distintos de regressão logística, cada um empregando um conjunto de preditores definidos pelos componentes principais da PCA. O primeiro modelo utiliza o número de componentes estabelecido na Parte 1 e 2, enquanto o segundo se baseia em um número de componentes selecionado para explicar pelo menos 90% da variabilidade dos dados. Esta abordagem nos permite avaliar a influência da quantidade de componentes principais na eficácia da classificação.\n",
    "\n",
    "A performance de ambos os modelos PCR será comparada com os resultados obtidos pelo modelo de regressão logística múltipla da Parte 3, tanto nos conjuntos de treinamento quanto de teste. Esse comparativo visa discernir como a redução de dimensionalidade afeta a precisão da classificação e a capacidade de generalização do modelo, oferecendo insights sobre o equilíbrio ideal entre simplificação dos dados e preservação de informações relevantes para a classificação."
   ]
  },
  {
   "cell_type": "code",
   "execution_count": 31,
   "metadata": {
    "colab": {
     "base_uri": "https://localhost:8080/",
     "height": 51
    },
    "colab_type": "code",
    "id": "hwbjLQ2MO9ek",
    "outputId": "6a6c2ef0-2d0c-44d5-a24f-91e4e2524280"
   },
   "outputs": [
    {
     "name": "stdout",
     "output_type": "stream",
     "text": [
      "10 dimension PCA - train: 100.00% test: 87.88%\n",
      "29 dimension PCA - train: 100.00% test: 96.97%\n",
      "CPU times: total: 516 ms\n",
      "Wall time: 412 ms\n"
     ]
    }
   ],
   "source": [
    "%%time \n",
    "\n",
    "selected_dim = 10\n",
    "ninety_percent_dim = 29\n",
    "models_to_fit = [selected_dim, ninety_percent_dim]\n",
    "models_comparison = {}\n",
    "\n",
    "# Logistic PCR:\n",
    "# get principal components for different specific dimensions,\n",
    "# then train and fit a logistic regression model for each\n",
    "for i, dim in enumerate(models_to_fit):\n",
    "    cur_model = None\n",
    "    results = {}\n",
    "    # fit model\n",
    "    results['dim'] = dim\n",
    "    pca_transformer = PCA(dim).fit(X_train_scaled)\n",
    "    cur_X_train = pca_transformer.transform(X_train_scaled)\n",
    "    cur_X_test =  pca_transformer.transform(X_test_scaled)\n",
    "    cur_model = LogisticRegression(C=BIG_C).fit(cur_X_train, y_train)\n",
    "    \n",
    "    # predict\n",
    "    y_pred_train = cur_model.predict(cur_X_train)\n",
    "    y_pred_test = cur_model.predict(cur_X_test)\n",
    "    \n",
    "    # performance\n",
    "    train_score = accuracy_score(y_train, y_pred_train) * 100\n",
    "    test_score= accuracy_score(y_test, y_pred_test) * 100\n",
    "    \n",
    "    # store results and model info for later\n",
    "    results['model'] = cur_model # model used\n",
    "    results['X_train'] = cur_X_train\n",
    "    results['X_test'] = cur_X_test\n",
    "    results['train_score'] = train_score\n",
    "    results['test_score'] = test_score\n",
    "    results['y_pred_train'] = y_pred_train\n",
    "    results['y_pred_test'] = y_pred_test\n",
    "    models_comparison[dim] = results\n",
    "\n",
    "# report scores\n",
    "for d in models_comparison.keys():\n",
    "    print(\"{} dimension PCA - train: {:.2f}% test: {:.2f}%\".format(\n",
    "      models_comparison[d]['dim'],\n",
    "      models_comparison[d]['train_score'],\n",
    "      models_comparison[d]['test_score'],\n",
    "    ))"
   ]
  },
  {
   "cell_type": "markdown",
   "metadata": {
    "colab_type": "text",
    "id": "rj-Kz9ADO9e0"
   },
   "source": [
    "Ao aplicar a Regressão Logística com a totalidade dos 7.129 preditores genéticos, alcançamos uma excepcional precisão de 100% tanto no conjunto de treinamento quanto no de teste. No entanto, a implementação da Análise de Componentes Principais (PCA) para a seleção de preditores introduziu uma nova perspectiva na modelagem, permitindo uma análise mais focada e interpretável.\n",
    "\n",
    "Utilizando apenas 10 componentes principais, o modelo manteve a precisão perfeita de 100% no treinamento, mas experimentou uma redução para 87,87% no teste. Ampliando para 29 componentes, que explicam 90% da variância dos dados, observamos uma melhoria significativa na precisão do teste para 96,97%, sem alterar o desempenho no treinamento. Esta variação indica que, apesar de uma leve perda na precisão do conjunto de teste com menos componentes, a escolha de 29 componentes oferece um equilíbrio eficaz entre a retenção de informações essenciais e a simplificação do modelo.\n",
    "\n",
    "Essa estratégia de redução de dimensionalidade com a PCA não apenas mitigou o risco de overfitting, evidenciado pela alta precisão com todos os preditores, mas também melhorou a interpretabilidade do modelo, concentrando-se nos componentes mais significativos. Curiosamente, apenas cerca de 25% dos preditores originais foram identificados como estatisticamente significativos, reforçando a vantagem de empregar a PCA para destilar os aspectos mais críticos dos dados para a classificação."
   ]
  },
  {
   "cell_type": "markdown",
   "metadata": {
    "colab_type": "text",
    "id": "Ema02v9KO9e6"
   },
   "source": [
    "**4.2 Visualização e Comparação das Probabilidades Previstas**\n",
    "\n",
    "Utilizando o código fornecido na Parte 3 para visualizar as probabilidades previstas pelos modelos ajustados na parte anterior nos conjuntos de treinamento e teste foi analisado como a distribuição de probabilidades nesses gráficos se compara àquelas do modelo na questão anterior e também se a representação dimensional inferior produz um poder preditivo comparável."
   ]
  },
  {
   "cell_type": "code",
   "execution_count": 32,
   "metadata": {
    "colab": {
     "base_uri": "https://localhost:8080/",
     "height": 1044
    },
    "colab_type": "code",
    "id": "ctXNziX61uyI",
    "outputId": "74e5209c-ad0f-4dad-f0f5-3a21a8193b1c"
   },
   "outputs": [
    {
     "data": {
      "image/png": "[encoded data removed]",
      "text/plain": [
       "<Figure size 864x1296 with 6 Axes>"
      ]
     },
     "metadata": {},
     "output_type": "display_data"
    }
   ],
   "source": [
    "# function to visualize the probabilities\n",
    "# predicted by a set of fitted models with PCR  \n",
    "def visualize_prob_train_test(model, model_desc,\n",
    "                              X_train, y_train,\n",
    "                              X_test, y_test,\n",
    "                              ax1, ax2):\n",
    "  visualize_prob(model, X_train, y_train, ax1)\n",
    "  ax1.set_title(\"{}\\nTraining Data Probabilities\".format(model_desc))\n",
    "  visualize_prob(model, X_test, y_test, ax2)\n",
    "  ax2.set_title(\"{}\\nTest Data Probabilities\".format(model_desc))\n",
    "\n",
    "## visualize PCR models with 10 and 29 components\n",
    "\n",
    "# set up figure\n",
    "plot_rows = len(models_to_fit)+1\n",
    "plot_cols = 2\n",
    "fig, axes = plt.subplots(plot_rows, plot_cols, figsize=(plot_cols*6, plot_rows*6))\n",
    "\n",
    "count = 0\n",
    "for m in models_to_fit:\n",
    "  # model metadata\n",
    "  model = models_comparison[m]['model']\n",
    "  dim = models_comparison[m]['dim']\n",
    "  model_desc = \"{}-dim Logistic PCR\".format(dim)\n",
    "  \n",
    "  # plot\n",
    "  ax1, ax2 = axes[count][:]\n",
    "  X_train = models_comparison[m]['X_train']\n",
    "  X_test = models_comparison[m]['X_test']\n",
    "  visualize_prob_train_test(model, model_desc,\n",
    "                            X_train, y_train,\n",
    "                            X_test, y_test,\n",
    "                            ax1, ax2)\n",
    "\n",
    "  y_pred_test = models_comparison[m]['y_pred_test']\n",
    "  count += 1\n",
    "\n",
    "## visualize logistic regression model with significant predictors\n",
    "\n",
    "lr_model_significant_cols = LogisticRegression(C=BIG_C).fit(\n",
    "    X_train_scaled[significant_cols],\n",
    "    y_train)\n",
    "train_score_significant_cols = lr_model_significant_cols.score(\n",
    "    X_train_scaled[significant_cols],\n",
    "    y_train)\n",
    "test_score_significant_cols = lr_model_significant_cols.score(\n",
    "    X_test_scaled[significant_cols],\n",
    "    y_test)\n",
    "ax1, ax2 = axes[count][:]\n",
    "visualize_prob_train_test(lr_model_significant_cols,\n",
    "      'Logistic Regression with significant predictors',\n",
    "      X_train_scaled[significant_cols], y_train,\n",
    "      X_test_scaled[significant_cols], y_test,\n",
    "      ax1, ax2)"
   ]
  },
  {
   "cell_type": "code",
   "execution_count": 33,
   "metadata": {
    "colab": {
     "base_uri": "https://localhost:8080/",
     "height": 553
    },
    "colab_type": "code",
    "id": "7xVSWOrycOGW",
    "outputId": "53d5f266-7a61-4e99-ed9a-21469a204a3a"
   },
   "outputs": [
    {
     "data": {
      "text/plain": [
       "'Predicted class vs Actual class'"
      ]
     },
     "metadata": {},
     "output_type": "display_data"
    },
    {
     "data": {
      "text/plain": [
       "'10-dim Logistic PCR'"
      ]
     },
     "metadata": {},
     "output_type": "display_data"
    },
    {
     "data": {
      "text/html": [
       "<div>\n",
       "<style scoped>\n",
       "    .dataframe tbody tr th:only-of-type {\n",
       "        vertical-align: middle;\n",
       "    }\n",
       "\n",
       "    .dataframe tbody tr th {\n",
       "        vertical-align: top;\n",
       "    }\n",
       "\n",
       "    .dataframe thead th {\n",
       "        text-align: right;\n",
       "    }\n",
       "</style>\n",
       "<table border=\"1\" class=\"dataframe\">\n",
       "  <thead>\n",
       "    <tr style=\"text-align: right;\">\n",
       "      <th>Predicted</th>\n",
       "      <th>0</th>\n",
       "      <th>1</th>\n",
       "      <th>All</th>\n",
       "    </tr>\n",
       "    <tr>\n",
       "      <th>Actual</th>\n",
       "      <th></th>\n",
       "      <th></th>\n",
       "      <th></th>\n",
       "    </tr>\n",
       "  </thead>\n",
       "  <tbody>\n",
       "    <tr>\n",
       "      <th>0</th>\n",
       "      <td>22</td>\n",
       "      <td>1</td>\n",
       "      <td>23</td>\n",
       "    </tr>\n",
       "    <tr>\n",
       "      <th>1</th>\n",
       "      <td>3</td>\n",
       "      <td>7</td>\n",
       "      <td>10</td>\n",
       "    </tr>\n",
       "    <tr>\n",
       "      <th>All</th>\n",
       "      <td>25</td>\n",
       "      <td>8</td>\n",
       "      <td>33</td>\n",
       "    </tr>\n",
       "  </tbody>\n",
       "</table>\n",
       "</div>"
      ],
      "text/plain": [
       "Predicted   0  1  All\n",
       "Actual               \n",
       "0          22  1   23\n",
       "1           3  7   10\n",
       "All        25  8   33"
      ]
     },
     "metadata": {},
     "output_type": "display_data"
    },
    {
     "data": {
      "text/plain": [
       "'29-dim Logistic PCR'"
      ]
     },
     "metadata": {},
     "output_type": "display_data"
    },
    {
     "data": {
      "text/html": [
       "<div>\n",
       "<style scoped>\n",
       "    .dataframe tbody tr th:only-of-type {\n",
       "        vertical-align: middle;\n",
       "    }\n",
       "\n",
       "    .dataframe tbody tr th {\n",
       "        vertical-align: top;\n",
       "    }\n",
       "\n",
       "    .dataframe thead th {\n",
       "        text-align: right;\n",
       "    }\n",
       "</style>\n",
       "<table border=\"1\" class=\"dataframe\">\n",
       "  <thead>\n",
       "    <tr style=\"text-align: right;\">\n",
       "      <th>Predicted</th>\n",
       "      <th>0</th>\n",
       "      <th>1</th>\n",
       "      <th>All</th>\n",
       "    </tr>\n",
       "    <tr>\n",
       "      <th>Actual</th>\n",
       "      <th></th>\n",
       "      <th></th>\n",
       "      <th></th>\n",
       "    </tr>\n",
       "  </thead>\n",
       "  <tbody>\n",
       "    <tr>\n",
       "      <th>0</th>\n",
       "      <td>22</td>\n",
       "      <td>1</td>\n",
       "      <td>23</td>\n",
       "    </tr>\n",
       "    <tr>\n",
       "      <th>1</th>\n",
       "      <td>0</td>\n",
       "      <td>10</td>\n",
       "      <td>10</td>\n",
       "    </tr>\n",
       "    <tr>\n",
       "      <th>All</th>\n",
       "      <td>22</td>\n",
       "      <td>11</td>\n",
       "      <td>33</td>\n",
       "    </tr>\n",
       "  </tbody>\n",
       "</table>\n",
       "</div>"
      ],
      "text/plain": [
       "Predicted   0   1  All\n",
       "Actual                \n",
       "0          22   1   23\n",
       "1           0  10   10\n",
       "All        22  11   33"
      ]
     },
     "metadata": {},
     "output_type": "display_data"
    },
    {
     "data": {
      "text/plain": [
       "'Logistic Regression with significant predictors'"
      ]
     },
     "metadata": {},
     "output_type": "display_data"
    },
    {
     "data": {
      "text/html": [
       "<div>\n",
       "<style scoped>\n",
       "    .dataframe tbody tr th:only-of-type {\n",
       "        vertical-align: middle;\n",
       "    }\n",
       "\n",
       "    .dataframe tbody tr th {\n",
       "        vertical-align: top;\n",
       "    }\n",
       "\n",
       "    .dataframe thead th {\n",
       "        text-align: right;\n",
       "    }\n",
       "</style>\n",
       "<table border=\"1\" class=\"dataframe\">\n",
       "  <thead>\n",
       "    <tr style=\"text-align: right;\">\n",
       "      <th>Predicted</th>\n",
       "      <th>0</th>\n",
       "      <th>1</th>\n",
       "      <th>All</th>\n",
       "    </tr>\n",
       "    <tr>\n",
       "      <th>Actual</th>\n",
       "      <th></th>\n",
       "      <th></th>\n",
       "      <th></th>\n",
       "    </tr>\n",
       "  </thead>\n",
       "  <tbody>\n",
       "    <tr>\n",
       "      <th>0</th>\n",
       "      <td>22</td>\n",
       "      <td>1</td>\n",
       "      <td>23</td>\n",
       "    </tr>\n",
       "    <tr>\n",
       "      <th>1</th>\n",
       "      <td>1</td>\n",
       "      <td>9</td>\n",
       "      <td>10</td>\n",
       "    </tr>\n",
       "    <tr>\n",
       "      <th>All</th>\n",
       "      <td>23</td>\n",
       "      <td>10</td>\n",
       "      <td>33</td>\n",
       "    </tr>\n",
       "  </tbody>\n",
       "</table>\n",
       "</div>"
      ],
      "text/plain": [
       "Predicted   0   1  All\n",
       "Actual                \n",
       "0          22   1   23\n",
       "1           1   9   10\n",
       "All        23  10   33"
      ]
     },
     "metadata": {},
     "output_type": "display_data"
    }
   ],
   "source": [
    "## display an overview of false positives and false negatives for PCR models with 10 and 29 components\n",
    "count = 0\n",
    "display(\"Predicted class vs Actual class\")\n",
    "for m in models_to_fit:\n",
    "  # model metadata\n",
    "  model = models_comparison[m]['model']\n",
    "  dim = models_comparison[m]['dim']\n",
    "  model_desc = \"{}-dim Logistic PCR\".format(dim)\n",
    "\n",
    "  y_pred_test = models_comparison[m]['y_pred_test']\n",
    "  display(model_desc)\n",
    "  display(pd.crosstab(\n",
    "      y_test,\n",
    "      y_pred_test,\n",
    "      margins=True,\n",
    "      rownames=['Actual'],\n",
    "      colnames=['Predicted']))\n",
    "  count += 1\n",
    "\n",
    "## display an overview of false positives and false negatives \n",
    "# for logistic regression model with significant predictors\n",
    "display('Logistic Regression with significant predictors')\n",
    "display(pd.crosstab(\n",
    "    y_test,\n",
    "    lr_model_significant_cols.predict(\n",
    "        X_test_scaled[significant_cols]),\n",
    "    margins=True,\n",
    "    rownames=['Actual'],\n",
    "    colnames=['Predicted']))"
   ]
  },
  {
   "cell_type": "markdown",
   "metadata": {
    "colab_type": "text",
    "id": "svNMM5s8O9fY"
   },
   "source": [
    "Realizamos uma avaliação detalhada das classificações incorretas - falsos positivos e falsos negativos - geradas por modelos de Regressão de Componentes Principais (PCR) com 10 e 29 dimensões, assim como pelo modelo de regressão logística utilizando preditores significativos. A análise comparativa dessas classificações nos oferece insights valiosos sobre a performance e a precisão de cada modelo.\n",
    "\n",
    "Em termos de distribuição de probabilidades, observamos um padrão consistente nos modelos aplicados aos dados de treinamento: enquanto os modelos com maior número de dimensões tendem a indicar uma incerteza mais acentuada nas suas previsões, as classificações para a classe 0 concentram-se majoritariamente em probabilidades próximas a 0, e para a classe 1, em probabilidades próximas a 1. Esse padrão resulta em uma precisão de classificação de 100% no conjunto de treinamento.\n",
    "\n",
    "Para os dados de teste, a variabilidade nas probabilidades previstas é mais pronunciada, especialmente no modelo de regressão logística ajustado a preditores com significância estatística (p < 0,05), que resultou em 2 falsos negativos e 1 falso positivo. Comparativamente, os modelos PCR com 10 componentes principais geraram 4 falsos negativos e 1 falso positivo, mostrando que as probabilidades se agrupam predominantemente nas extremidades, com exceção de alguns pontos distribuídos mais centralmente, perto do limiar de 0,5.\n",
    "\n",
    "A análise da variância explicada pelo PCA e sua acumulação conforme aumentamos o número de componentes revela que a representação com dimensão inferior de 10 componentes resultou em um desempenho preditivo ligeiramente inferior (88% de precisão no teste) em comparação com o modelo de 29 componentes, que alcançou 96,97% de precisão. Essa observação sugere que, embora a redução dimensional possa simplificar o modelo e melhorar sua interpretabilidade, a escolha do número de componentes é crítica para maximizar o poder preditivo sem sacrificar a precisão.\n",
    "\n",
    "Portanto, a seleção cuidadosa do número de componentes principais, idealmente através de uma combinação de análise de variância explicada e validação cruzada, é fundamental para equilibrar a eficácia preditiva e a simplicidade do modelo em aplicações de PCR, apontando para um compromisso entre precisão e generalização."
   ]
  },
  {
   "cell_type": "code",
   "execution_count": 34,
   "metadata": {
    "colab": {},
    "colab_type": "code",
    "id": "xDE-AMVjStlO"
   },
   "outputs": [],
   "source": [
    "def pca_logistic(dim):\n",
    "    pca_transformer = PCA(dim).fit(X_train_scaled)\n",
    "    X_train_pca = pca_transformer.transform(X_train_scaled)\n",
    "    X_test_pca = pca_transformer.transform(X_test_scaled)\n",
    "    model = LogisticRegression(C=1000000).fit(X_train_pca,y_train)\n",
    "    train_score = model.score(X_train_pca,y_train)\n",
    "    test_score = model.score(X_test_pca,y_test)\n",
    "    #train_score = accuracy_score(y_train, model.predict(X_train_pca))\n",
    "    #test_score = accuracy_score(y_test, model.predict(X_test_pca))\n",
    "    clf = LogisticRegressionCV(cv=5).fit(X_train_pca, y_train)\n",
    "    cv_score = clf.score(X_train_pca, y_train)\n",
    "    return (train_score,\n",
    "            test_score,\n",
    "            pca_transformer.explained_variance_ratio_,\n",
    "            model.coef_,\n",
    "            cv_score)"
   ]
  },
  {
   "cell_type": "code",
   "execution_count": 35,
   "metadata": {
    "colab": {
     "base_uri": "https://localhost:8080/",
     "height": 1507
    },
    "colab_type": "code",
    "id": "B0a4x3ljaFJI",
    "outputId": "1030ccd1-ab9a-4203-ec14-a368cd910454",
    "scrolled": true
   },
   "outputs": [
    {
     "name": "stdout",
     "output_type": "stream",
     "text": [
      "Classification accuracy on test for each dimension:  [0.67, 0.76, 0.82, 0.79, 0.82, 0.94, 0.97, 0.91, 0.85, 0.85, 0.94, 0.94, 0.91, 0.94, 0.88, 0.94, 0.97, 0.94, 0.94, 0.97, 0.94, 1.0, 0.91, 0.91, 0.94, 0.88, 0.91, 0.94, 0.94, 0.94, 0.94, 0.97, 0.97, 0.97, 0.97, 0.97, 0.97, 0.97, 0.97, 0.97]\n",
      "Variance captured by each single dimension:  [1.58890345e-01 1.14287949e-01 6.59628918e-02 4.78739154e-02\n",
      " 4.25567520e-02 3.83225402e-02 3.26359261e-02 2.89735451e-02\n",
      " 2.66932266e-02 2.45509698e-02 2.36556039e-02 2.30070468e-02\n",
      " 2.12261465e-02 2.00993660e-02 1.96743636e-02 1.92725678e-02\n",
      " 1.85394343e-02 1.73461259e-02 1.72095498e-02 1.65473368e-02\n",
      " 1.54924718e-02 1.51668361e-02 1.49950438e-02 1.42713203e-02\n",
      " 1.38639772e-02 1.33412133e-02 1.31589544e-02 1.28359687e-02\n",
      " 1.22356477e-02 1.17908904e-02 1.14823727e-02 1.11070763e-02\n",
      " 1.04255621e-02 9.77443029e-03 9.51248818e-03 8.88740202e-03\n",
      " 8.61113419e-03 8.22663504e-03 7.49497253e-03 3.37339020e-32]\n",
      "Cumulative variance captured at each dimension:  [0.15889035 0.27317829 0.33914119 0.3870151  0.42957185 0.46789439\n",
      " 0.50053032 0.52950387 0.55619709 0.58074806 0.60440367 0.62741071\n",
      " 0.64863686 0.66873622 0.68841059 0.70768316 0.72622259 0.74356872\n",
      " 0.76077827 0.7773256  0.79281807 0.80798491 0.82297995 0.83725127\n",
      " 0.85111525 0.86445647 0.87761542 0.89045139 0.90268704 0.91447793\n",
      " 0.9259603  0.93706738 0.94749294 0.95726737 0.96677986 0.97566726\n",
      " 0.98427839 0.99250503 1.         1.        ]\n",
      "Cross-validation score for each dimension:  [0.62, 0.85, 0.88, 0.85, 0.9, 0.98, 0.98, 0.95, 0.98, 0.98, 0.98, 0.98, 0.98, 0.98, 0.98, 0.98, 0.98, 0.98, 0.98, 0.98, 0.98, 0.98, 0.98, 0.98, 0.98, 0.98, 0.98, 0.98, 0.98, 0.98, 0.98, 0.98, 1.0, 1.0, 1.0, 1.0, 1.0, 1.0, 1.0, 1.0]\n"
     ]
    },
    {
     "data": {
      "image/png": "[encoded data removed]",
      "text/plain": [
       "<Figure size 576x1440 with 3 Axes>"
      ]
     },
     "metadata": {},
     "output_type": "display_data"
    }
   ],
   "source": [
    "def plot_pca_scores(max_dim=40):\n",
    "    \n",
    "    train_scores = []\n",
    "    test_scores = []\n",
    "    cv_scores = []\n",
    "    dim_range = range(1, max_dim+1)\n",
    "    \n",
    "    for dim in dim_range:\n",
    "        (train_score,\n",
    "         test_score,\n",
    "         var_explained,\n",
    "         coefs,\n",
    "         cv_score) = pca_logistic(dim)\n",
    "        train_scores.append(round(train_score, 2))\n",
    "        test_scores.append(round(test_score, 2))\n",
    "        cv_scores.append(round(cv_score,2))\n",
    "        \n",
    "    fig, ax = plt.subplots(3,1,figsize=(8,20))\n",
    "    ax[0].plot(dim_range, train_scores, label='train')\n",
    "    ax[0].plot(dim_range, test_scores, label='test')\n",
    "    ax[0].axvline(x=10, color='r', linestyle='--')\n",
    "    ax[0].axvline(x=29, color='b', linestyle='--')\n",
    "    ax[0].set_xlabel('PCA dimension')\n",
    "    ax[0].set_ylabel('classification accuracy')\n",
    "    ax[0].set_title('PCR on multiple dimensions')\n",
    "    ax[0].legend()\n",
    "    \n",
    "    var_explained_cum = np.cumsum(var_explained)\n",
    "    ax[1].scatter(dim_range, var_explained_cum)\n",
    "    ax[1].set_xlabel(\"PCA Dimension\")\n",
    "    ax[1].set_ylabel(\"Cumulative Variance Captured\")\n",
    "    ax[1].set_title(\"Cumulative Variance Explained by PCA\")\n",
    "    \n",
    "    ax[2].scatter(dim_range, var_explained)\n",
    "    ax[2].set_xlabel(\"PCA Dimension\")\n",
    "    ax[2].set_ylabel(\"Variance Captured\")\n",
    "    ax[2].set_title(\"Variance Explained by PCA\")\n",
    "    \n",
    "    \n",
    "    print(\"Classification accuracy on test for each dimension: \", test_scores)\n",
    "    print(\"Variance captured by each single dimension: \", var_explained)\n",
    "    print(\"Cumulative variance captured at each dimension: \", var_explained_cum)\n",
    "    print(\"Cross-validation score for each dimension: \", cv_scores)\n",
    "\n",
    "plot_pca_scores()"
   ]
  },
  {
   "cell_type": "markdown",
   "metadata": {},
   "source": [
    "Este projeto representou uma jornada profunda e analítica através da aplicação de técnicas avançadas de modelagem preditiva para classificar tipos de câncer com base em expressões genéticas. Empregamos métodos de regressão logística e análise de componentes principais (PCA), evoluindo para a técnica mais sofisticada de Regressão de Componentes Principais (PCR) para lidar com o desafio da alta dimensionalidade dos dados genéticos.\n",
    "\n",
    "A análise revelou informações importantess: enquanto a precisão de 100% foi atingida com o modelo completo de regressão logística, a PCA mostrou que uma redução significativa de dimensões ainda permitia a captura da maior parte da variância dos dados, resultando em modelos PCR com precisões de 87,88% com 10 componentes e 96,97% com 29 componentes no conjunto de teste. Esta observação indica que uma quantidade considerável de informações redundantes ou não essenciais pode ser removida sem prejudicar substancialmente a acurácia do modelo.\n",
    "\n",
    "Ao analisar a variância explicada e realizar a validação cruzada foi possível apurar a importância de cada componente e sua contribuição para a robustez do modelo. Os resultados enfatizaram a relevância das primeiras dimensões e corroboraram a eficácia da seleção de componentes na melhoria da performance preditiva.\n",
    "\n",
    "Através deste trabalho, confirmamos que a PCR é uma abordagem importante que equilibra eficácia preditiva com complexidade computacional. A seleção do número de componentes principais é crítica, guiada tanto pela variância explicada quanto pela validação cruzada, garantindo a construção de modelos robustos e generalizáveis. Este equilíbrio entre precisão e simplicidade reflete a essência da modelagem preditiva contemporânea, onde a eficiência e a interpretabilidade são tão valorizadas quanto a precisão.\n",
    "\n",
    "Em conclusão, este projeto não só demonstrou como a ciência de dados pode contribuir poderosamente para descobertas biomédicas, mas também serviu como um modelo para a aplicação cuidadosa e consciente de técnicas de machine learning. A pesquisa ilustra o potencial para melhorar os diagnósticos médicos e a compreensão da genética do câncer, evidenciando o impacto transformador da ciência de dados na bioinformática e na medicina personalizada."
   ]
  },
  {
   "cell_type": "code",
   "execution_count": null,
   "metadata": {},
   "outputs": [],
   "source": []
  }
 ],
 "metadata": {
  "colab": {
   "collapsed_sections": [],
   "name": "cs109a_hw5_109_submit.ipynb",
   "provenance": [],
   "version": "0.3.2"
  },
  "kernelspec": {
   "display_name": "Python 3 (ipykernel)",
   "language": "python",
   "name": "python3"
  },
  "language_info": {
   "codemirror_mode": {
    "name": "ipython",
    "version": 3
   },
   "file_extension": ".py",
   "mimetype": "text/x-python",
   "name": "python",
   "nbconvert_exporter": "python",
   "pygments_lexer": "ipython3",
   "version": "3.9.12"
  }
 },
 "nbformat": 4,
 "nbformat_minor": 1
}
